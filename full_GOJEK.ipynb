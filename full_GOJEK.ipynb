{
  "nbformat": 4,
  "nbformat_minor": 0,
  "metadata": {
    "colab": {
      "provenance": []
    },
    "kernelspec": {
      "name": "python3",
      "display_name": "Python 3"
    },
    "language_info": {
      "name": "python"
    }
  },
  "cells": [
    {
      "cell_type": "code",
      "source": [
        "from google.colab import drive\n",
        "drive.mount('/content/drive')\n",
        "import sys\n",
        "sys.path.append('/content/drive/My Drive/Colab Notebooks')"
      ],
      "metadata": {
        "colab": {
          "base_uri": "https://localhost:8080/"
        },
        "id": "lHtfnWMIMamy",
        "outputId": "b626f300-a490-47f4-9ce3-301c5e97924e"
      },
      "execution_count": 183,
      "outputs": [
        {
          "output_type": "stream",
          "name": "stdout",
          "text": [
            "Drive already mounted at /content/drive; to attempt to forcibly remount, call drive.mount(\"/content/drive\", force_remount=True).\n"
          ]
        }
      ]
    },
    {
      "cell_type": "code",
      "source": [
        "import re\n",
        "import string \n",
        "import pandas as pd\n",
        "from copy import deepcopy\n",
        "\n",
        "import matplotlib.pyplot as plt\n",
        "import seaborn as sns\n",
        "%matplotlib inline\n",
        "\n",
        "from sklearn.model_selection import train_test_split\n",
        "from sklearn.metrics import accuracy_score\n",
        "from sklearn.metrics import recall_score\n",
        "from sklearn.metrics import precision_score"
      ],
      "metadata": {
        "id": "PFmbE3g2QlOs"
      },
      "execution_count": 184,
      "outputs": []
    },
    {
      "cell_type": "code",
      "source": [
        "df = pd.read_csv('/content/drive/My Drive/Colab Notebooks/komentar.csv')"
      ],
      "metadata": {
        "id": "xyQO27JwNteP"
      },
      "execution_count": 185,
      "outputs": []
    },
    {
      "cell_type": "code",
      "source": [
        "print(df.head())"
      ],
      "metadata": {
        "colab": {
          "base_uri": "https://localhost:8080/"
        },
        "id": "bDh-mPrLNiFO",
        "outputId": "ab2c6ef8-8e93-4fe8-a6c1-44facadf9140"
      },
      "execution_count": 186,
      "outputs": [
        {
          "output_type": "stream",
          "name": "stdout",
          "text": [
            "   score                                            content\n",
            "0      5  Sangat membantu untuk aplikasi dan fitur maps ...\n",
            "1      1  ini aplikasi sedang menyingkirkan mitra lamany...\n",
            "2      3  Sangat membantu tp tolong dong knp klo cs yg c...\n",
            "3      4  Saat anter penumpang, sdh d ksi jalur/jaln yg ...\n",
            "4      1  Aplikasi yg buat driver timpang ada yg udah 20...\n"
          ]
        }
      ]
    },
    {
      "cell_type": "code",
      "source": [
        "df = df.drop(['score'], axis=1)"
      ],
      "metadata": {
        "id": "pC0hfQtYOt9Q"
      },
      "execution_count": 187,
      "outputs": []
    },
    {
      "cell_type": "code",
      "source": [
        "print(df.head())"
      ],
      "metadata": {
        "colab": {
          "base_uri": "https://localhost:8080/"
        },
        "id": "xpEXD0m5O9C4",
        "outputId": "bf6cbf1b-fa66-46cf-d208-03344857ae48"
      },
      "execution_count": 188,
      "outputs": [
        {
          "output_type": "stream",
          "name": "stdout",
          "text": [
            "                                             content\n",
            "0  Sangat membantu untuk aplikasi dan fitur maps ...\n",
            "1  ini aplikasi sedang menyingkirkan mitra lamany...\n",
            "2  Sangat membantu tp tolong dong knp klo cs yg c...\n",
            "3  Saat anter penumpang, sdh d ksi jalur/jaln yg ...\n",
            "4  Aplikasi yg buat driver timpang ada yg udah 20...\n"
          ]
        }
      ]
    },
    {
      "cell_type": "code",
      "source": [
        "!pip install ekphrasis"
      ],
      "metadata": {
        "colab": {
          "base_uri": "https://localhost:8080/"
        },
        "id": "6iqLJ5o0R6b3",
        "outputId": "7956b22e-0596-4fb3-90dc-f3caba43d6a0"
      },
      "execution_count": 189,
      "outputs": [
        {
          "output_type": "stream",
          "name": "stdout",
          "text": [
            "Looking in indexes: https://pypi.org/simple, https://us-python.pkg.dev/colab-wheels/public/simple/\n",
            "Requirement already satisfied: ekphrasis in /usr/local/lib/python3.8/dist-packages (0.5.4)\n",
            "Requirement already satisfied: colorama in /usr/local/lib/python3.8/dist-packages (from ekphrasis) (0.4.6)\n",
            "Requirement already satisfied: tqdm in /usr/local/lib/python3.8/dist-packages (from ekphrasis) (4.64.1)\n",
            "Requirement already satisfied: ujson in /usr/local/lib/python3.8/dist-packages (from ekphrasis) (5.7.0)\n",
            "Requirement already satisfied: termcolor in /usr/local/lib/python3.8/dist-packages (from ekphrasis) (2.2.0)\n",
            "Requirement already satisfied: ftfy in /usr/local/lib/python3.8/dist-packages (from ekphrasis) (6.1.1)\n",
            "Requirement already satisfied: nltk in /usr/local/lib/python3.8/dist-packages (from ekphrasis) (3.7)\n",
            "Requirement already satisfied: matplotlib in /usr/local/lib/python3.8/dist-packages (from ekphrasis) (3.5.3)\n",
            "Requirement already satisfied: numpy in /usr/local/lib/python3.8/dist-packages (from ekphrasis) (1.22.4)\n",
            "Requirement already satisfied: wcwidth>=0.2.5 in /usr/local/lib/python3.8/dist-packages (from ftfy->ekphrasis) (0.2.6)\n",
            "Requirement already satisfied: python-dateutil>=2.7 in /usr/local/lib/python3.8/dist-packages (from matplotlib->ekphrasis) (2.8.2)\n",
            "Requirement already satisfied: kiwisolver>=1.0.1 in /usr/local/lib/python3.8/dist-packages (from matplotlib->ekphrasis) (1.4.4)\n",
            "Requirement already satisfied: packaging>=20.0 in /usr/local/lib/python3.8/dist-packages (from matplotlib->ekphrasis) (23.0)\n",
            "Requirement already satisfied: pyparsing>=2.2.1 in /usr/local/lib/python3.8/dist-packages (from matplotlib->ekphrasis) (3.0.9)\n",
            "Requirement already satisfied: cycler>=0.10 in /usr/local/lib/python3.8/dist-packages (from matplotlib->ekphrasis) (0.11.0)\n",
            "Requirement already satisfied: pillow>=6.2.0 in /usr/local/lib/python3.8/dist-packages (from matplotlib->ekphrasis) (8.4.0)\n",
            "Requirement already satisfied: fonttools>=4.22.0 in /usr/local/lib/python3.8/dist-packages (from matplotlib->ekphrasis) (4.38.0)\n",
            "Requirement already satisfied: click in /usr/local/lib/python3.8/dist-packages (from nltk->ekphrasis) (8.1.3)\n",
            "Requirement already satisfied: joblib in /usr/local/lib/python3.8/dist-packages (from nltk->ekphrasis) (1.2.0)\n",
            "Requirement already satisfied: regex>=2021.8.3 in /usr/local/lib/python3.8/dist-packages (from nltk->ekphrasis) (2022.6.2)\n",
            "Requirement already satisfied: six>=1.5 in /usr/local/lib/python3.8/dist-packages (from python-dateutil>=2.7->matplotlib->ekphrasis) (1.15.0)\n"
          ]
        }
      ]
    },
    {
      "cell_type": "code",
      "source": [
        "from ekphrasis.classes.preprocessor import TextPreProcessor\n",
        "from ekphrasis.classes.tokenizer import SocialTokenizer\n",
        "from ekphrasis.dicts.emoticons import emoticons\n",
        "\n",
        "text_processor = TextPreProcessor(\n",
        "    # terms that will be normalized\n",
        "    normalize=['email', 'percent', 'money', 'phone', 'user',\n",
        "        'time', 'date', 'number'],\n",
        "    # terms that will be annotated\n",
        "    #annotate={\"hashtag\", \"allcaps\", \"elongated\", \"repeated\",'emphasis', 'censored'},\n",
        "    annotate={\"hashtag\",\"allcaps\",\"elongated\",\"repeated\",'emphasis','censored'},\n",
        "    fix_html=True,  # fix HTML tokens\n",
        "    \n",
        "    # corpus from which the word statistics are going to be used \n",
        "    # for word segmentation \n",
        "    segmenter=\"twitter\", \n",
        "    \n",
        "    # corpus from which the word statistics are going to be used \n",
        "    # for spell correction\n",
        "    corrector=\"twitter\", \n",
        "    \n",
        "    unpack_hashtags=True,  # perform word segmentation on hashtags\n",
        "    unpack_contractions=True,  # Unpack contractions (can't -> can not)\n",
        "    spell_correct_elong=False,  # spell correction for elongated words\n",
        "    \n",
        "    # select a tokenizer. You can use SocialTokenizer, or pass your own\n",
        "    # the tokenizer, should take as input a string and return a list of tokens\n",
        "    tokenizer=SocialTokenizer(lowercase=True).tokenize,\n",
        "    \n",
        "    # list of dictionaries, for replacing tokens extracted from the text,\n",
        "    # with other expressions. You can pass more than one dictionaries.\n",
        "    dicts=[emoticons]\n",
        ")"
      ],
      "metadata": {
        "colab": {
          "base_uri": "https://localhost:8080/"
        },
        "id": "0ziVGQJ-RxpG",
        "outputId": "67a15a4f-d25e-44df-97e8-ec4daca409a8"
      },
      "execution_count": 190,
      "outputs": [
        {
          "output_type": "stream",
          "name": "stderr",
          "text": [
            "/usr/local/lib/python3.8/dist-packages/ekphrasis/classes/tokenizer.py:225: FutureWarning: Possible nested set at position 2190\n",
            "  self.tok = re.compile(r\"({})\".format(\"|\".join(pipeline)))\n"
          ]
        },
        {
          "output_type": "stream",
          "name": "stdout",
          "text": [
            "Reading twitter - 1grams ...\n",
            "Reading twitter - 2grams ...\n",
            "Reading twitter - 1grams ...\n"
          ]
        },
        {
          "output_type": "stream",
          "name": "stderr",
          "text": [
            "/usr/local/lib/python3.8/dist-packages/ekphrasis/classes/exmanager.py:14: FutureWarning: Possible nested set at position 42\n",
            "  regexes = {k.lower(): re.compile(self.expressions[k]) for k, v in\n"
          ]
        }
      ]
    },
    {
      "cell_type": "code",
      "source": [
        "def bersih_data(text):\n",
        "    return \" \".join(text_processor.pre_process_doc(text))\n",
        "\n",
        "def non_ascii(text):\n",
        "    return text.encode('ascii', 'replace').decode('ascii')\n",
        "\n",
        "def remove_space_alzami(text):\n",
        "    return \" \".join(text.split())\n",
        "\n",
        "def remove_emoji_alzami(text):\n",
        "    return ' '.join(re.sub(\"([x#][A-Za-z0-9]+)\",\" \", text).split())\n",
        "\n",
        "def remove_tab(text):\n",
        "    return text.replace('\\\\t',\" \").replace('\\\\n',\" \").replace('\\\\u',\" \").replace('\\\\',\"\")\n",
        "\n",
        "def remove_tab2(text):\n",
        "    return re.sub('\\s+',' ',text)\n",
        "\n",
        "def remove_rt(text):\n",
        "    return text.replace('RT',\" \")\n",
        "\n",
        "def remove_mention(text):\n",
        "    return ' '.join(re.sub(\"([@#][A-Za-z0-9]+)|(\\w+:\\/\\/\\S+)\",\" \", text).split())\n",
        "\n",
        "def remove_incomplete_url(text):\n",
        "    return text.replace(\"http://\", \" \").replace(\"https://\", \" \")\n",
        "\n",
        "def remove_single_char(text):\n",
        "    return re.sub(r\"\\b[a-zA-Z]\\b\", \"\", text)\n",
        "\n",
        "def change_stripe(text):\n",
        "    return text.replace('-',\" \")\n",
        "\n",
        "def lower(text):\n",
        "    return text.lower()\n",
        "\n",
        "def remove_punctuation(text):\n",
        "    remove = string.punctuation\n",
        "    remove = remove.replace(\"_\", \"\") # don't remove hyphens\n",
        "    pattern = r\"[{}]\".format(remove) # create the pattern\n",
        "    return re.sub(pattern, \"\", text) "
      ],
      "metadata": {
        "id": "bH8eL4aEQZ4c"
      },
      "execution_count": 191,
      "outputs": []
    },
    {
      "cell_type": "code",
      "source": [
        "i = 0\n",
        "final_string = []\n",
        "s = \"\"\n",
        "for text in df['content'].values:\n",
        "    filteredSentence = []\n",
        "    EachReviewText = \"\"\n",
        "    proc = bersih_data(text)\n",
        "    proc = remove_rt(proc) \n",
        "    proc = lower(proc)\n",
        "    proc = change_stripe(proc)\n",
        "    proc = remove_tab(proc)\n",
        "    proc = remove_tab2(proc)\n",
        "    proc = non_ascii(proc)\n",
        "    proc = remove_incomplete_url(proc)\n",
        "    proc = remove_single_char(proc)\n",
        "    proc = remove_punctuation(proc)\n",
        "    proc = remove_space_alzami(proc)\n",
        "    EachReviewText = proc\n",
        "    final_string.append(EachReviewText)"
      ],
      "metadata": {
        "id": "vXGb3s0YRTZi"
      },
      "execution_count": 192,
      "outputs": []
    },
    {
      "cell_type": "code",
      "source": [
        "df[\"step01\"] = final_string"
      ],
      "metadata": {
        "id": "SpS2z2kHSVE2"
      },
      "execution_count": 193,
      "outputs": []
    },
    {
      "cell_type": "code",
      "source": [
        "df.head()"
      ],
      "metadata": {
        "colab": {
          "base_uri": "https://localhost:8080/",
          "height": 206
        },
        "id": "TDWzwOGsSXGw",
        "outputId": "4d5c5f0b-8cbb-4d74-e8c5-75344757cac6"
      },
      "execution_count": 194,
      "outputs": [
        {
          "output_type": "execute_result",
          "data": {
            "text/plain": [
              "                                             content  \\\n",
              "0  Sangat membantu untuk aplikasi dan fitur maps ...   \n",
              "1  ini aplikasi sedang menyingkirkan mitra lamany...   \n",
              "2  Sangat membantu tp tolong dong knp klo cs yg c...   \n",
              "3  Saat anter penumpang, sdh d ksi jalur/jaln yg ...   \n",
              "4  Aplikasi yg buat driver timpang ada yg udah 20...   \n",
              "\n",
              "                                              step01  \n",
              "0  sangat membantu untuk aplikasi dan fitur maps ...  \n",
              "1  ini aplikasi sedang menyingkirkan mitra lamany...  \n",
              "2  sangat membantu tp tolong dong knp klo cs yg c...  \n",
              "3  saat anter penumpang sdh ksi jalur jaln yg tdk...  \n",
              "4  aplikasi yg buat driver timpang ada yg udah nu...  "
            ],
            "text/html": [
              "\n",
              "  <div id=\"df-f510b6e4-855c-418c-8f69-daafbb781d11\">\n",
              "    <div class=\"colab-df-container\">\n",
              "      <div>\n",
              "<style scoped>\n",
              "    .dataframe tbody tr th:only-of-type {\n",
              "        vertical-align: middle;\n",
              "    }\n",
              "\n",
              "    .dataframe tbody tr th {\n",
              "        vertical-align: top;\n",
              "    }\n",
              "\n",
              "    .dataframe thead th {\n",
              "        text-align: right;\n",
              "    }\n",
              "</style>\n",
              "<table border=\"1\" class=\"dataframe\">\n",
              "  <thead>\n",
              "    <tr style=\"text-align: right;\">\n",
              "      <th></th>\n",
              "      <th>content</th>\n",
              "      <th>step01</th>\n",
              "    </tr>\n",
              "  </thead>\n",
              "  <tbody>\n",
              "    <tr>\n",
              "      <th>0</th>\n",
              "      <td>Sangat membantu untuk aplikasi dan fitur maps ...</td>\n",
              "      <td>sangat membantu untuk aplikasi dan fitur maps ...</td>\n",
              "    </tr>\n",
              "    <tr>\n",
              "      <th>1</th>\n",
              "      <td>ini aplikasi sedang menyingkirkan mitra lamany...</td>\n",
              "      <td>ini aplikasi sedang menyingkirkan mitra lamany...</td>\n",
              "    </tr>\n",
              "    <tr>\n",
              "      <th>2</th>\n",
              "      <td>Sangat membantu tp tolong dong knp klo cs yg c...</td>\n",
              "      <td>sangat membantu tp tolong dong knp klo cs yg c...</td>\n",
              "    </tr>\n",
              "    <tr>\n",
              "      <th>3</th>\n",
              "      <td>Saat anter penumpang, sdh d ksi jalur/jaln yg ...</td>\n",
              "      <td>saat anter penumpang sdh ksi jalur jaln yg tdk...</td>\n",
              "    </tr>\n",
              "    <tr>\n",
              "      <th>4</th>\n",
              "      <td>Aplikasi yg buat driver timpang ada yg udah 20...</td>\n",
              "      <td>aplikasi yg buat driver timpang ada yg udah nu...</td>\n",
              "    </tr>\n",
              "  </tbody>\n",
              "</table>\n",
              "</div>\n",
              "      <button class=\"colab-df-convert\" onclick=\"convertToInteractive('df-f510b6e4-855c-418c-8f69-daafbb781d11')\"\n",
              "              title=\"Convert this dataframe to an interactive table.\"\n",
              "              style=\"display:none;\">\n",
              "        \n",
              "  <svg xmlns=\"http://www.w3.org/2000/svg\" height=\"24px\"viewBox=\"0 0 24 24\"\n",
              "       width=\"24px\">\n",
              "    <path d=\"M0 0h24v24H0V0z\" fill=\"none\"/>\n",
              "    <path d=\"M18.56 5.44l.94 2.06.94-2.06 2.06-.94-2.06-.94-.94-2.06-.94 2.06-2.06.94zm-11 1L8.5 8.5l.94-2.06 2.06-.94-2.06-.94L8.5 2.5l-.94 2.06-2.06.94zm10 10l.94 2.06.94-2.06 2.06-.94-2.06-.94-.94-2.06-.94 2.06-2.06.94z\"/><path d=\"M17.41 7.96l-1.37-1.37c-.4-.4-.92-.59-1.43-.59-.52 0-1.04.2-1.43.59L10.3 9.45l-7.72 7.72c-.78.78-.78 2.05 0 2.83L4 21.41c.39.39.9.59 1.41.59.51 0 1.02-.2 1.41-.59l7.78-7.78 2.81-2.81c.8-.78.8-2.07 0-2.86zM5.41 20L4 18.59l7.72-7.72 1.47 1.35L5.41 20z\"/>\n",
              "  </svg>\n",
              "      </button>\n",
              "      \n",
              "  <style>\n",
              "    .colab-df-container {\n",
              "      display:flex;\n",
              "      flex-wrap:wrap;\n",
              "      gap: 12px;\n",
              "    }\n",
              "\n",
              "    .colab-df-convert {\n",
              "      background-color: #E8F0FE;\n",
              "      border: none;\n",
              "      border-radius: 50%;\n",
              "      cursor: pointer;\n",
              "      display: none;\n",
              "      fill: #1967D2;\n",
              "      height: 32px;\n",
              "      padding: 0 0 0 0;\n",
              "      width: 32px;\n",
              "    }\n",
              "\n",
              "    .colab-df-convert:hover {\n",
              "      background-color: #E2EBFA;\n",
              "      box-shadow: 0px 1px 2px rgba(60, 64, 67, 0.3), 0px 1px 3px 1px rgba(60, 64, 67, 0.15);\n",
              "      fill: #174EA6;\n",
              "    }\n",
              "\n",
              "    [theme=dark] .colab-df-convert {\n",
              "      background-color: #3B4455;\n",
              "      fill: #D2E3FC;\n",
              "    }\n",
              "\n",
              "    [theme=dark] .colab-df-convert:hover {\n",
              "      background-color: #434B5C;\n",
              "      box-shadow: 0px 1px 3px 1px rgba(0, 0, 0, 0.15);\n",
              "      filter: drop-shadow(0px 1px 2px rgba(0, 0, 0, 0.3));\n",
              "      fill: #FFFFFF;\n",
              "    }\n",
              "  </style>\n",
              "\n",
              "      <script>\n",
              "        const buttonEl =\n",
              "          document.querySelector('#df-f510b6e4-855c-418c-8f69-daafbb781d11 button.colab-df-convert');\n",
              "        buttonEl.style.display =\n",
              "          google.colab.kernel.accessAllowed ? 'block' : 'none';\n",
              "\n",
              "        async function convertToInteractive(key) {\n",
              "          const element = document.querySelector('#df-f510b6e4-855c-418c-8f69-daafbb781d11');\n",
              "          const dataTable =\n",
              "            await google.colab.kernel.invokeFunction('convertToInteractive',\n",
              "                                                     [key], {});\n",
              "          if (!dataTable) return;\n",
              "\n",
              "          const docLinkHtml = 'Like what you see? Visit the ' +\n",
              "            '<a target=\"_blank\" href=https://colab.research.google.com/notebooks/data_table.ipynb>data table notebook</a>'\n",
              "            + ' to learn more about interactive tables.';\n",
              "          element.innerHTML = '';\n",
              "          dataTable['output_type'] = 'display_data';\n",
              "          await google.colab.output.renderOutput(dataTable, element);\n",
              "          const docLink = document.createElement('div');\n",
              "          docLink.innerHTML = docLinkHtml;\n",
              "          element.appendChild(docLink);\n",
              "        }\n",
              "      </script>\n",
              "    </div>\n",
              "  </div>\n",
              "  "
            ]
          },
          "metadata": {},
          "execution_count": 194
        }
      ]
    },
    {
      "cell_type": "code",
      "source": [
        "df.info()"
      ],
      "metadata": {
        "colab": {
          "base_uri": "https://localhost:8080/"
        },
        "id": "SerGGiQEShAM",
        "outputId": "5a589f9e-7b33-4302-f179-35a687505739"
      },
      "execution_count": 195,
      "outputs": [
        {
          "output_type": "stream",
          "name": "stdout",
          "text": [
            "<class 'pandas.core.frame.DataFrame'>\n",
            "RangeIndex: 1000 entries, 0 to 999\n",
            "Data columns (total 2 columns):\n",
            " #   Column   Non-Null Count  Dtype \n",
            "---  ------   --------------  ----- \n",
            " 0   content  1000 non-null   object\n",
            " 1   step01   1000 non-null   object\n",
            "dtypes: object(2)\n",
            "memory usage: 15.8+ KB\n"
          ]
        }
      ]
    },
    {
      "cell_type": "code",
      "source": [
        "df_hapus = df[~df['step01'].str.contains(\" \")]"
      ],
      "metadata": {
        "id": "9bIStWcuSqe8"
      },
      "execution_count": 196,
      "outputs": []
    },
    {
      "cell_type": "code",
      "source": [
        "df_new = df[~df.isin(df_hapus)].dropna()"
      ],
      "metadata": {
        "id": "hFlUM-2-Svz6"
      },
      "execution_count": 197,
      "outputs": []
    },
    {
      "cell_type": "code",
      "source": [
        "df_new.info()"
      ],
      "metadata": {
        "colab": {
          "base_uri": "https://localhost:8080/"
        },
        "id": "kRqT75m0Sy-q",
        "outputId": "778c2f2a-7002-4a28-fa39-5f8d536942fc"
      },
      "execution_count": 198,
      "outputs": [
        {
          "output_type": "stream",
          "name": "stdout",
          "text": [
            "<class 'pandas.core.frame.DataFrame'>\n",
            "Int64Index: 1000 entries, 0 to 999\n",
            "Data columns (total 2 columns):\n",
            " #   Column   Non-Null Count  Dtype \n",
            "---  ------   --------------  ----- \n",
            " 0   content  1000 non-null   object\n",
            " 1   step01   1000 non-null   object\n",
            "dtypes: object(2)\n",
            "memory usage: 23.4+ KB\n"
          ]
        }
      ]
    },
    {
      "cell_type": "code",
      "source": [
        "# token\n",
        "import nltk\n",
        "nltk.download('punkt')\n",
        "from nltk.tokenize import word_tokenize "
      ],
      "metadata": {
        "colab": {
          "base_uri": "https://localhost:8080/"
        },
        "id": "bLcbaMqwS5OO",
        "outputId": "c8038c08-72fa-47d7-9150-03d2e67e6d43"
      },
      "execution_count": 199,
      "outputs": [
        {
          "output_type": "stream",
          "name": "stderr",
          "text": [
            "[nltk_data] Downloading package punkt to /root/nltk_data...\n",
            "[nltk_data]   Package punkt is already up-to-date!\n"
          ]
        }
      ]
    },
    {
      "cell_type": "code",
      "source": [
        "def word_tokenize_wrapper(text):\n",
        "  return word_tokenize(text)"
      ],
      "metadata": {
        "id": "-6eRnB1PS9ct"
      },
      "execution_count": 200,
      "outputs": []
    },
    {
      "cell_type": "code",
      "source": [
        "df_new['tokens'] = df['step01'].apply(word_tokenize_wrapper)"
      ],
      "metadata": {
        "id": "eB56B948TBrU"
      },
      "execution_count": 201,
      "outputs": []
    },
    {
      "cell_type": "code",
      "source": [
        "df_new.head(10)"
      ],
      "metadata": {
        "colab": {
          "base_uri": "https://localhost:8080/",
          "height": 363
        },
        "id": "c-ndSF_xTGJC",
        "outputId": "79a86e22-a88f-493f-f05e-b29de783f649"
      },
      "execution_count": 202,
      "outputs": [
        {
          "output_type": "execute_result",
          "data": {
            "text/plain": [
              "                                             content  \\\n",
              "0  Sangat membantu untuk aplikasi dan fitur maps ...   \n",
              "1  ini aplikasi sedang menyingkirkan mitra lamany...   \n",
              "2  Sangat membantu tp tolong dong knp klo cs yg c...   \n",
              "3  Saat anter penumpang, sdh d ksi jalur/jaln yg ...   \n",
              "4  Aplikasi yg buat driver timpang ada yg udah 20...   \n",
              "5  Update terbaru masih aja Aplikasi sering kelua...   \n",
              "6  Driver kena orderan fiktif tidak di ganti, jik...   \n",
              "7  1. Nada dering aplikasi jangan mengikuti nada ...   \n",
              "8  Baterai jadi lebih boros, cepat panas, titik k...   \n",
              "9  Aplikasi yang jelas2 sudah off bid tiba2 masuk...   \n",
              "\n",
              "                                              step01  \\\n",
              "0  sangat membantu untuk aplikasi dan fitur maps ...   \n",
              "1  ini aplikasi sedang menyingkirkan mitra lamany...   \n",
              "2  sangat membantu tp tolong dong knp klo cs yg c...   \n",
              "3  saat anter penumpang sdh ksi jalur jaln yg tdk...   \n",
              "4  aplikasi yg buat driver timpang ada yg udah nu...   \n",
              "5  update terbaru masih aja aplikasi sering kelua...   \n",
              "6  driver kena orderan fiktif tidak di ganti jika...   \n",
              "7  number nada dering aplikasi jangan mengikuti n...   \n",
              "8  baterai jadi lebih boros cepat panas titik kad...   \n",
              "9  aplikasi yang jelas2 sudah off bid tiba2 masuk...   \n",
              "\n",
              "                                              tokens  \n",
              "0  [sangat, membantu, untuk, aplikasi, dan, fitur...  \n",
              "1  [ini, aplikasi, sedang, menyingkirkan, mitra, ...  \n",
              "2  [sangat, membantu, tp, tolong, dong, knp, klo,...  \n",
              "3  [saat, anter, penumpang, sdh, ksi, jalur, jaln...  \n",
              "4  [aplikasi, yg, buat, driver, timpang, ada, yg,...  \n",
              "5  [update, terbaru, masih, aja, aplikasi, sering...  \n",
              "6  [driver, kena, orderan, fiktif, tidak, di, gan...  \n",
              "7  [number, nada, dering, aplikasi, jangan, mengi...  \n",
              "8  [baterai, jadi, lebih, boros, cepat, panas, ti...  \n",
              "9  [aplikasi, yang, jelas2, sudah, off, bid, tiba...  "
            ],
            "text/html": [
              "\n",
              "  <div id=\"df-754bbf34-62e3-44a9-be8d-6bed1c5b001e\">\n",
              "    <div class=\"colab-df-container\">\n",
              "      <div>\n",
              "<style scoped>\n",
              "    .dataframe tbody tr th:only-of-type {\n",
              "        vertical-align: middle;\n",
              "    }\n",
              "\n",
              "    .dataframe tbody tr th {\n",
              "        vertical-align: top;\n",
              "    }\n",
              "\n",
              "    .dataframe thead th {\n",
              "        text-align: right;\n",
              "    }\n",
              "</style>\n",
              "<table border=\"1\" class=\"dataframe\">\n",
              "  <thead>\n",
              "    <tr style=\"text-align: right;\">\n",
              "      <th></th>\n",
              "      <th>content</th>\n",
              "      <th>step01</th>\n",
              "      <th>tokens</th>\n",
              "    </tr>\n",
              "  </thead>\n",
              "  <tbody>\n",
              "    <tr>\n",
              "      <th>0</th>\n",
              "      <td>Sangat membantu untuk aplikasi dan fitur maps ...</td>\n",
              "      <td>sangat membantu untuk aplikasi dan fitur maps ...</td>\n",
              "      <td>[sangat, membantu, untuk, aplikasi, dan, fitur...</td>\n",
              "    </tr>\n",
              "    <tr>\n",
              "      <th>1</th>\n",
              "      <td>ini aplikasi sedang menyingkirkan mitra lamany...</td>\n",
              "      <td>ini aplikasi sedang menyingkirkan mitra lamany...</td>\n",
              "      <td>[ini, aplikasi, sedang, menyingkirkan, mitra, ...</td>\n",
              "    </tr>\n",
              "    <tr>\n",
              "      <th>2</th>\n",
              "      <td>Sangat membantu tp tolong dong knp klo cs yg c...</td>\n",
              "      <td>sangat membantu tp tolong dong knp klo cs yg c...</td>\n",
              "      <td>[sangat, membantu, tp, tolong, dong, knp, klo,...</td>\n",
              "    </tr>\n",
              "    <tr>\n",
              "      <th>3</th>\n",
              "      <td>Saat anter penumpang, sdh d ksi jalur/jaln yg ...</td>\n",
              "      <td>saat anter penumpang sdh ksi jalur jaln yg tdk...</td>\n",
              "      <td>[saat, anter, penumpang, sdh, ksi, jalur, jaln...</td>\n",
              "    </tr>\n",
              "    <tr>\n",
              "      <th>4</th>\n",
              "      <td>Aplikasi yg buat driver timpang ada yg udah 20...</td>\n",
              "      <td>aplikasi yg buat driver timpang ada yg udah nu...</td>\n",
              "      <td>[aplikasi, yg, buat, driver, timpang, ada, yg,...</td>\n",
              "    </tr>\n",
              "    <tr>\n",
              "      <th>5</th>\n",
              "      <td>Update terbaru masih aja Aplikasi sering kelua...</td>\n",
              "      <td>update terbaru masih aja aplikasi sering kelua...</td>\n",
              "      <td>[update, terbaru, masih, aja, aplikasi, sering...</td>\n",
              "    </tr>\n",
              "    <tr>\n",
              "      <th>6</th>\n",
              "      <td>Driver kena orderan fiktif tidak di ganti, jik...</td>\n",
              "      <td>driver kena orderan fiktif tidak di ganti jika...</td>\n",
              "      <td>[driver, kena, orderan, fiktif, tidak, di, gan...</td>\n",
              "    </tr>\n",
              "    <tr>\n",
              "      <th>7</th>\n",
              "      <td>1. Nada dering aplikasi jangan mengikuti nada ...</td>\n",
              "      <td>number nada dering aplikasi jangan mengikuti n...</td>\n",
              "      <td>[number, nada, dering, aplikasi, jangan, mengi...</td>\n",
              "    </tr>\n",
              "    <tr>\n",
              "      <th>8</th>\n",
              "      <td>Baterai jadi lebih boros, cepat panas, titik k...</td>\n",
              "      <td>baterai jadi lebih boros cepat panas titik kad...</td>\n",
              "      <td>[baterai, jadi, lebih, boros, cepat, panas, ti...</td>\n",
              "    </tr>\n",
              "    <tr>\n",
              "      <th>9</th>\n",
              "      <td>Aplikasi yang jelas2 sudah off bid tiba2 masuk...</td>\n",
              "      <td>aplikasi yang jelas2 sudah off bid tiba2 masuk...</td>\n",
              "      <td>[aplikasi, yang, jelas2, sudah, off, bid, tiba...</td>\n",
              "    </tr>\n",
              "  </tbody>\n",
              "</table>\n",
              "</div>\n",
              "      <button class=\"colab-df-convert\" onclick=\"convertToInteractive('df-754bbf34-62e3-44a9-be8d-6bed1c5b001e')\"\n",
              "              title=\"Convert this dataframe to an interactive table.\"\n",
              "              style=\"display:none;\">\n",
              "        \n",
              "  <svg xmlns=\"http://www.w3.org/2000/svg\" height=\"24px\"viewBox=\"0 0 24 24\"\n",
              "       width=\"24px\">\n",
              "    <path d=\"M0 0h24v24H0V0z\" fill=\"none\"/>\n",
              "    <path d=\"M18.56 5.44l.94 2.06.94-2.06 2.06-.94-2.06-.94-.94-2.06-.94 2.06-2.06.94zm-11 1L8.5 8.5l.94-2.06 2.06-.94-2.06-.94L8.5 2.5l-.94 2.06-2.06.94zm10 10l.94 2.06.94-2.06 2.06-.94-2.06-.94-.94-2.06-.94 2.06-2.06.94z\"/><path d=\"M17.41 7.96l-1.37-1.37c-.4-.4-.92-.59-1.43-.59-.52 0-1.04.2-1.43.59L10.3 9.45l-7.72 7.72c-.78.78-.78 2.05 0 2.83L4 21.41c.39.39.9.59 1.41.59.51 0 1.02-.2 1.41-.59l7.78-7.78 2.81-2.81c.8-.78.8-2.07 0-2.86zM5.41 20L4 18.59l7.72-7.72 1.47 1.35L5.41 20z\"/>\n",
              "  </svg>\n",
              "      </button>\n",
              "      \n",
              "  <style>\n",
              "    .colab-df-container {\n",
              "      display:flex;\n",
              "      flex-wrap:wrap;\n",
              "      gap: 12px;\n",
              "    }\n",
              "\n",
              "    .colab-df-convert {\n",
              "      background-color: #E8F0FE;\n",
              "      border: none;\n",
              "      border-radius: 50%;\n",
              "      cursor: pointer;\n",
              "      display: none;\n",
              "      fill: #1967D2;\n",
              "      height: 32px;\n",
              "      padding: 0 0 0 0;\n",
              "      width: 32px;\n",
              "    }\n",
              "\n",
              "    .colab-df-convert:hover {\n",
              "      background-color: #E2EBFA;\n",
              "      box-shadow: 0px 1px 2px rgba(60, 64, 67, 0.3), 0px 1px 3px 1px rgba(60, 64, 67, 0.15);\n",
              "      fill: #174EA6;\n",
              "    }\n",
              "\n",
              "    [theme=dark] .colab-df-convert {\n",
              "      background-color: #3B4455;\n",
              "      fill: #D2E3FC;\n",
              "    }\n",
              "\n",
              "    [theme=dark] .colab-df-convert:hover {\n",
              "      background-color: #434B5C;\n",
              "      box-shadow: 0px 1px 3px 1px rgba(0, 0, 0, 0.15);\n",
              "      filter: drop-shadow(0px 1px 2px rgba(0, 0, 0, 0.3));\n",
              "      fill: #FFFFFF;\n",
              "    }\n",
              "  </style>\n",
              "\n",
              "      <script>\n",
              "        const buttonEl =\n",
              "          document.querySelector('#df-754bbf34-62e3-44a9-be8d-6bed1c5b001e button.colab-df-convert');\n",
              "        buttonEl.style.display =\n",
              "          google.colab.kernel.accessAllowed ? 'block' : 'none';\n",
              "\n",
              "        async function convertToInteractive(key) {\n",
              "          const element = document.querySelector('#df-754bbf34-62e3-44a9-be8d-6bed1c5b001e');\n",
              "          const dataTable =\n",
              "            await google.colab.kernel.invokeFunction('convertToInteractive',\n",
              "                                                     [key], {});\n",
              "          if (!dataTable) return;\n",
              "\n",
              "          const docLinkHtml = 'Like what you see? Visit the ' +\n",
              "            '<a target=\"_blank\" href=https://colab.research.google.com/notebooks/data_table.ipynb>data table notebook</a>'\n",
              "            + ' to learn more about interactive tables.';\n",
              "          element.innerHTML = '';\n",
              "          dataTable['output_type'] = 'display_data';\n",
              "          await google.colab.output.renderOutput(dataTable, element);\n",
              "          const docLink = document.createElement('div');\n",
              "          docLink.innerHTML = docLinkHtml;\n",
              "          element.appendChild(docLink);\n",
              "        }\n",
              "      </script>\n",
              "    </div>\n",
              "  </div>\n",
              "  "
            ]
          },
          "metadata": {},
          "execution_count": 202
        }
      ]
    },
    {
      "cell_type": "code",
      "source": [
        "normalized_word = pd.read_excel(\"/content/drive/My Drive/Colab Notebooks/kamus perbaikan kata.xlsx\")\n",
        "\n",
        "normalized_word_dict = {}\n",
        "\n",
        "for index, row in normalized_word.iterrows():\n",
        "    if row[0] not in normalized_word_dict:\n",
        "        normalized_word_dict[row[0]] = row[1] \n",
        "\n",
        "def normalized_term(document):\n",
        "    return [normalized_word_dict[term] if term in normalized_word_dict else term for term in document]\n",
        "\n",
        "df_new['tokens_perbaikan'] = df_new['tokens'].apply(normalized_term)"
      ],
      "metadata": {
        "id": "G9y5LuBITcaE"
      },
      "execution_count": 203,
      "outputs": []
    },
    {
      "cell_type": "code",
      "source": [
        "df_new.head()"
      ],
      "metadata": {
        "colab": {
          "base_uri": "https://localhost:8080/",
          "height": 250
        },
        "id": "dZZ-PDIvTkm6",
        "outputId": "55494a8e-0403-4f25-b894-3ca46bd61625"
      },
      "execution_count": 204,
      "outputs": [
        {
          "output_type": "execute_result",
          "data": {
            "text/plain": [
              "                                             content  \\\n",
              "0  Sangat membantu untuk aplikasi dan fitur maps ...   \n",
              "1  ini aplikasi sedang menyingkirkan mitra lamany...   \n",
              "2  Sangat membantu tp tolong dong knp klo cs yg c...   \n",
              "3  Saat anter penumpang, sdh d ksi jalur/jaln yg ...   \n",
              "4  Aplikasi yg buat driver timpang ada yg udah 20...   \n",
              "\n",
              "                                              step01  \\\n",
              "0  sangat membantu untuk aplikasi dan fitur maps ...   \n",
              "1  ini aplikasi sedang menyingkirkan mitra lamany...   \n",
              "2  sangat membantu tp tolong dong knp klo cs yg c...   \n",
              "3  saat anter penumpang sdh ksi jalur jaln yg tdk...   \n",
              "4  aplikasi yg buat driver timpang ada yg udah nu...   \n",
              "\n",
              "                                              tokens  \\\n",
              "0  [sangat, membantu, untuk, aplikasi, dan, fitur...   \n",
              "1  [ini, aplikasi, sedang, menyingkirkan, mitra, ...   \n",
              "2  [sangat, membantu, tp, tolong, dong, knp, klo,...   \n",
              "3  [saat, anter, penumpang, sdh, ksi, jalur, jaln...   \n",
              "4  [aplikasi, yg, buat, driver, timpang, ada, yg,...   \n",
              "\n",
              "                                    tokens_perbaikan  \n",
              "0  [sangat, membantu, untuk, aplikasi, dan, fitur...  \n",
              "1  [ini, aplikasi, sedang, menyingkirkan, mitra, ...  \n",
              "2  [sangat, membantu, tapi, tolong, dong, mengapa...  \n",
              "3  [saat, anter, penumpang, sudah, ksi, jalur, ja...  \n",
              "4  [aplikasi, yang, buat, driver, timpang, ada, y...  "
            ],
            "text/html": [
              "\n",
              "  <div id=\"df-9c6036c1-5d36-417c-a9a6-7d92729734a4\">\n",
              "    <div class=\"colab-df-container\">\n",
              "      <div>\n",
              "<style scoped>\n",
              "    .dataframe tbody tr th:only-of-type {\n",
              "        vertical-align: middle;\n",
              "    }\n",
              "\n",
              "    .dataframe tbody tr th {\n",
              "        vertical-align: top;\n",
              "    }\n",
              "\n",
              "    .dataframe thead th {\n",
              "        text-align: right;\n",
              "    }\n",
              "</style>\n",
              "<table border=\"1\" class=\"dataframe\">\n",
              "  <thead>\n",
              "    <tr style=\"text-align: right;\">\n",
              "      <th></th>\n",
              "      <th>content</th>\n",
              "      <th>step01</th>\n",
              "      <th>tokens</th>\n",
              "      <th>tokens_perbaikan</th>\n",
              "    </tr>\n",
              "  </thead>\n",
              "  <tbody>\n",
              "    <tr>\n",
              "      <th>0</th>\n",
              "      <td>Sangat membantu untuk aplikasi dan fitur maps ...</td>\n",
              "      <td>sangat membantu untuk aplikasi dan fitur maps ...</td>\n",
              "      <td>[sangat, membantu, untuk, aplikasi, dan, fitur...</td>\n",
              "      <td>[sangat, membantu, untuk, aplikasi, dan, fitur...</td>\n",
              "    </tr>\n",
              "    <tr>\n",
              "      <th>1</th>\n",
              "      <td>ini aplikasi sedang menyingkirkan mitra lamany...</td>\n",
              "      <td>ini aplikasi sedang menyingkirkan mitra lamany...</td>\n",
              "      <td>[ini, aplikasi, sedang, menyingkirkan, mitra, ...</td>\n",
              "      <td>[ini, aplikasi, sedang, menyingkirkan, mitra, ...</td>\n",
              "    </tr>\n",
              "    <tr>\n",
              "      <th>2</th>\n",
              "      <td>Sangat membantu tp tolong dong knp klo cs yg c...</td>\n",
              "      <td>sangat membantu tp tolong dong knp klo cs yg c...</td>\n",
              "      <td>[sangat, membantu, tp, tolong, dong, knp, klo,...</td>\n",
              "      <td>[sangat, membantu, tapi, tolong, dong, mengapa...</td>\n",
              "    </tr>\n",
              "    <tr>\n",
              "      <th>3</th>\n",
              "      <td>Saat anter penumpang, sdh d ksi jalur/jaln yg ...</td>\n",
              "      <td>saat anter penumpang sdh ksi jalur jaln yg tdk...</td>\n",
              "      <td>[saat, anter, penumpang, sdh, ksi, jalur, jaln...</td>\n",
              "      <td>[saat, anter, penumpang, sudah, ksi, jalur, ja...</td>\n",
              "    </tr>\n",
              "    <tr>\n",
              "      <th>4</th>\n",
              "      <td>Aplikasi yg buat driver timpang ada yg udah 20...</td>\n",
              "      <td>aplikasi yg buat driver timpang ada yg udah nu...</td>\n",
              "      <td>[aplikasi, yg, buat, driver, timpang, ada, yg,...</td>\n",
              "      <td>[aplikasi, yang, buat, driver, timpang, ada, y...</td>\n",
              "    </tr>\n",
              "  </tbody>\n",
              "</table>\n",
              "</div>\n",
              "      <button class=\"colab-df-convert\" onclick=\"convertToInteractive('df-9c6036c1-5d36-417c-a9a6-7d92729734a4')\"\n",
              "              title=\"Convert this dataframe to an interactive table.\"\n",
              "              style=\"display:none;\">\n",
              "        \n",
              "  <svg xmlns=\"http://www.w3.org/2000/svg\" height=\"24px\"viewBox=\"0 0 24 24\"\n",
              "       width=\"24px\">\n",
              "    <path d=\"M0 0h24v24H0V0z\" fill=\"none\"/>\n",
              "    <path d=\"M18.56 5.44l.94 2.06.94-2.06 2.06-.94-2.06-.94-.94-2.06-.94 2.06-2.06.94zm-11 1L8.5 8.5l.94-2.06 2.06-.94-2.06-.94L8.5 2.5l-.94 2.06-2.06.94zm10 10l.94 2.06.94-2.06 2.06-.94-2.06-.94-.94-2.06-.94 2.06-2.06.94z\"/><path d=\"M17.41 7.96l-1.37-1.37c-.4-.4-.92-.59-1.43-.59-.52 0-1.04.2-1.43.59L10.3 9.45l-7.72 7.72c-.78.78-.78 2.05 0 2.83L4 21.41c.39.39.9.59 1.41.59.51 0 1.02-.2 1.41-.59l7.78-7.78 2.81-2.81c.8-.78.8-2.07 0-2.86zM5.41 20L4 18.59l7.72-7.72 1.47 1.35L5.41 20z\"/>\n",
              "  </svg>\n",
              "      </button>\n",
              "      \n",
              "  <style>\n",
              "    .colab-df-container {\n",
              "      display:flex;\n",
              "      flex-wrap:wrap;\n",
              "      gap: 12px;\n",
              "    }\n",
              "\n",
              "    .colab-df-convert {\n",
              "      background-color: #E8F0FE;\n",
              "      border: none;\n",
              "      border-radius: 50%;\n",
              "      cursor: pointer;\n",
              "      display: none;\n",
              "      fill: #1967D2;\n",
              "      height: 32px;\n",
              "      padding: 0 0 0 0;\n",
              "      width: 32px;\n",
              "    }\n",
              "\n",
              "    .colab-df-convert:hover {\n",
              "      background-color: #E2EBFA;\n",
              "      box-shadow: 0px 1px 2px rgba(60, 64, 67, 0.3), 0px 1px 3px 1px rgba(60, 64, 67, 0.15);\n",
              "      fill: #174EA6;\n",
              "    }\n",
              "\n",
              "    [theme=dark] .colab-df-convert {\n",
              "      background-color: #3B4455;\n",
              "      fill: #D2E3FC;\n",
              "    }\n",
              "\n",
              "    [theme=dark] .colab-df-convert:hover {\n",
              "      background-color: #434B5C;\n",
              "      box-shadow: 0px 1px 3px 1px rgba(0, 0, 0, 0.15);\n",
              "      filter: drop-shadow(0px 1px 2px rgba(0, 0, 0, 0.3));\n",
              "      fill: #FFFFFF;\n",
              "    }\n",
              "  </style>\n",
              "\n",
              "      <script>\n",
              "        const buttonEl =\n",
              "          document.querySelector('#df-9c6036c1-5d36-417c-a9a6-7d92729734a4 button.colab-df-convert');\n",
              "        buttonEl.style.display =\n",
              "          google.colab.kernel.accessAllowed ? 'block' : 'none';\n",
              "\n",
              "        async function convertToInteractive(key) {\n",
              "          const element = document.querySelector('#df-9c6036c1-5d36-417c-a9a6-7d92729734a4');\n",
              "          const dataTable =\n",
              "            await google.colab.kernel.invokeFunction('convertToInteractive',\n",
              "                                                     [key], {});\n",
              "          if (!dataTable) return;\n",
              "\n",
              "          const docLinkHtml = 'Like what you see? Visit the ' +\n",
              "            '<a target=\"_blank\" href=https://colab.research.google.com/notebooks/data_table.ipynb>data table notebook</a>'\n",
              "            + ' to learn more about interactive tables.';\n",
              "          element.innerHTML = '';\n",
              "          dataTable['output_type'] = 'display_data';\n",
              "          await google.colab.output.renderOutput(dataTable, element);\n",
              "          const docLink = document.createElement('div');\n",
              "          docLink.innerHTML = docLinkHtml;\n",
              "          element.appendChild(docLink);\n",
              "        }\n",
              "      </script>\n",
              "    </div>\n",
              "  </div>\n",
              "  "
            ]
          },
          "metadata": {},
          "execution_count": 204
        }
      ]
    },
    {
      "cell_type": "code",
      "source": [
        "from nltk.corpus import stopwords\n",
        "nltk.download(\"stopwords\")"
      ],
      "metadata": {
        "colab": {
          "base_uri": "https://localhost:8080/"
        },
        "id": "iGykFCQGTytp",
        "outputId": "541bb2e5-0b4e-491a-86e1-463e11435c09"
      },
      "execution_count": 205,
      "outputs": [
        {
          "output_type": "stream",
          "name": "stderr",
          "text": [
            "[nltk_data] Downloading package stopwords to /root/nltk_data...\n",
            "[nltk_data]   Package stopwords is already up-to-date!\n"
          ]
        },
        {
          "output_type": "execute_result",
          "data": {
            "text/plain": [
              "True"
            ]
          },
          "metadata": {},
          "execution_count": 205
        }
      ]
    },
    {
      "cell_type": "code",
      "source": [
        "stopword = nltk.corpus.stopwords.words('indonesian')\n",
        "\n",
        "def remove_stopwords(text):\n",
        "  text = [word for word in text if word not in stopword]\n",
        "  return text\n",
        "\n",
        "df_new['Stop_removal'] = df_new['tokens_perbaikan'].apply(lambda x: remove_stopwords(x))\n",
        "df_new"
      ],
      "metadata": {
        "colab": {
          "base_uri": "https://localhost:8080/",
          "height": 641
        },
        "id": "E91-ccauT30r",
        "outputId": "884a9dd3-2c20-4611-f969-09f6db4918b2"
      },
      "execution_count": 206,
      "outputs": [
        {
          "output_type": "execute_result",
          "data": {
            "text/plain": [
              "                                               content  \\\n",
              "0    Sangat membantu untuk aplikasi dan fitur maps ...   \n",
              "1    ini aplikasi sedang menyingkirkan mitra lamany...   \n",
              "2    Sangat membantu tp tolong dong knp klo cs yg c...   \n",
              "3    Saat anter penumpang, sdh d ksi jalur/jaln yg ...   \n",
              "4    Aplikasi yg buat driver timpang ada yg udah 20...   \n",
              "..                                                 ...   \n",
              "995  Aplikasi sering logout sendiri , hp jadi serin...   \n",
              "996  Overall fungsi aplikasi bagus hanya 1 yang san...   \n",
              "997  Tampilan baru ribet dah.....enak kaya dulu tam...   \n",
              "998  Aplikasi sudah bagus, sayangnya tombol penyele...   \n",
              "999  Bikin rusak hp aja ini aplikasi driver mau nga...   \n",
              "\n",
              "                                                step01  \\\n",
              "0    sangat membantu untuk aplikasi dan fitur maps ...   \n",
              "1    ini aplikasi sedang menyingkirkan mitra lamany...   \n",
              "2    sangat membantu tp tolong dong knp klo cs yg c...   \n",
              "3    saat anter penumpang sdh ksi jalur jaln yg tdk...   \n",
              "4    aplikasi yg buat driver timpang ada yg udah nu...   \n",
              "..                                                 ...   \n",
              "995  aplikasi sering logout sendiri hp jadi sering ...   \n",
              "996  overall fungsi aplikasi bagus hanya number yan...   \n",
              "997  tampilan baru ribet dah repeated enak kaya dul...   \n",
              "998  aplikasi sudah bagus sayangnya tombol penyeles...   \n",
              "999  bikin rusak hp aja ini aplikasi driver mau nga...   \n",
              "\n",
              "                                                tokens  \\\n",
              "0    [sangat, membantu, untuk, aplikasi, dan, fitur...   \n",
              "1    [ini, aplikasi, sedang, menyingkirkan, mitra, ...   \n",
              "2    [sangat, membantu, tp, tolong, dong, knp, klo,...   \n",
              "3    [saat, anter, penumpang, sdh, ksi, jalur, jaln...   \n",
              "4    [aplikasi, yg, buat, driver, timpang, ada, yg,...   \n",
              "..                                                 ...   \n",
              "995  [aplikasi, sering, logout, sendiri, hp, jadi, ...   \n",
              "996  [overall, fungsi, aplikasi, bagus, hanya, numb...   \n",
              "997  [tampilan, baru, ribet, dah, repeated, enak, k...   \n",
              "998  [aplikasi, sudah, bagus, sayangnya, tombol, pe...   \n",
              "999  [bikin, rusak, hp, aja, ini, aplikasi, driver,...   \n",
              "\n",
              "                                      tokens_perbaikan  \\\n",
              "0    [sangat, membantu, untuk, aplikasi, dan, fitur...   \n",
              "1    [ini, aplikasi, sedang, menyingkirkan, mitra, ...   \n",
              "2    [sangat, membantu, tapi, tolong, dong, mengapa...   \n",
              "3    [saat, anter, penumpang, sudah, ksi, jalur, ja...   \n",
              "4    [aplikasi, yang, buat, driver, timpang, ada, y...   \n",
              "..                                                 ...   \n",
              "995  [aplikasi, sering, logout, sendiri, hp, jadi, ...   \n",
              "996  [overall, fungsi, aplikasi, bagus, hanya, numb...   \n",
              "997  [tampilan, baru, rumit, sudah, repeated, enak,...   \n",
              "998  [aplikasi, sudah, bagus, sayangnya, tombol, pe...   \n",
              "999  [membuat, rusak, hp, saja, ini, aplikasi, driv...   \n",
              "\n",
              "                                          Stop_removal  \n",
              "0    [membantu, aplikasi, fitur, maps, nya, semoga,...  \n",
              "1    [aplikasi, menyingkirkan, mitra, halus, ordera...  \n",
              "2    [membantu, tolong, cs, cancel, perfoma, turun,...  \n",
              "3    [anter, penumpang, ksi, jalur, jaln, macetnya,...  \n",
              "4    [aplikasi, driver, timpang, number, number, or...  \n",
              "..                                                 ...  \n",
              "995  [aplikasi, logout, hp, restart, pickup, cocok,...  \n",
              "996  [overall, fungsi, aplikasi, bagus, number, jel...  \n",
              "997  [tampilan, rumit, repeated, enak, kaya, tampil...  \n",
              "998  [aplikasi, bagus, sayangnya, tombol, penyelesa...  \n",
              "999  [rusak, hp, aplikasi, driver, ngambil, orderan...  \n",
              "\n",
              "[1000 rows x 5 columns]"
            ],
            "text/html": [
              "\n",
              "  <div id=\"df-1bb29035-e913-4896-afb4-0ed3db459bc9\">\n",
              "    <div class=\"colab-df-container\">\n",
              "      <div>\n",
              "<style scoped>\n",
              "    .dataframe tbody tr th:only-of-type {\n",
              "        vertical-align: middle;\n",
              "    }\n",
              "\n",
              "    .dataframe tbody tr th {\n",
              "        vertical-align: top;\n",
              "    }\n",
              "\n",
              "    .dataframe thead th {\n",
              "        text-align: right;\n",
              "    }\n",
              "</style>\n",
              "<table border=\"1\" class=\"dataframe\">\n",
              "  <thead>\n",
              "    <tr style=\"text-align: right;\">\n",
              "      <th></th>\n",
              "      <th>content</th>\n",
              "      <th>step01</th>\n",
              "      <th>tokens</th>\n",
              "      <th>tokens_perbaikan</th>\n",
              "      <th>Stop_removal</th>\n",
              "    </tr>\n",
              "  </thead>\n",
              "  <tbody>\n",
              "    <tr>\n",
              "      <th>0</th>\n",
              "      <td>Sangat membantu untuk aplikasi dan fitur maps ...</td>\n",
              "      <td>sangat membantu untuk aplikasi dan fitur maps ...</td>\n",
              "      <td>[sangat, membantu, untuk, aplikasi, dan, fitur...</td>\n",
              "      <td>[sangat, membantu, untuk, aplikasi, dan, fitur...</td>\n",
              "      <td>[membantu, aplikasi, fitur, maps, nya, semoga,...</td>\n",
              "    </tr>\n",
              "    <tr>\n",
              "      <th>1</th>\n",
              "      <td>ini aplikasi sedang menyingkirkan mitra lamany...</td>\n",
              "      <td>ini aplikasi sedang menyingkirkan mitra lamany...</td>\n",
              "      <td>[ini, aplikasi, sedang, menyingkirkan, mitra, ...</td>\n",
              "      <td>[ini, aplikasi, sedang, menyingkirkan, mitra, ...</td>\n",
              "      <td>[aplikasi, menyingkirkan, mitra, halus, ordera...</td>\n",
              "    </tr>\n",
              "    <tr>\n",
              "      <th>2</th>\n",
              "      <td>Sangat membantu tp tolong dong knp klo cs yg c...</td>\n",
              "      <td>sangat membantu tp tolong dong knp klo cs yg c...</td>\n",
              "      <td>[sangat, membantu, tp, tolong, dong, knp, klo,...</td>\n",
              "      <td>[sangat, membantu, tapi, tolong, dong, mengapa...</td>\n",
              "      <td>[membantu, tolong, cs, cancel, perfoma, turun,...</td>\n",
              "    </tr>\n",
              "    <tr>\n",
              "      <th>3</th>\n",
              "      <td>Saat anter penumpang, sdh d ksi jalur/jaln yg ...</td>\n",
              "      <td>saat anter penumpang sdh ksi jalur jaln yg tdk...</td>\n",
              "      <td>[saat, anter, penumpang, sdh, ksi, jalur, jaln...</td>\n",
              "      <td>[saat, anter, penumpang, sudah, ksi, jalur, ja...</td>\n",
              "      <td>[anter, penumpang, ksi, jalur, jaln, macetnya,...</td>\n",
              "    </tr>\n",
              "    <tr>\n",
              "      <th>4</th>\n",
              "      <td>Aplikasi yg buat driver timpang ada yg udah 20...</td>\n",
              "      <td>aplikasi yg buat driver timpang ada yg udah nu...</td>\n",
              "      <td>[aplikasi, yg, buat, driver, timpang, ada, yg,...</td>\n",
              "      <td>[aplikasi, yang, buat, driver, timpang, ada, y...</td>\n",
              "      <td>[aplikasi, driver, timpang, number, number, or...</td>\n",
              "    </tr>\n",
              "    <tr>\n",
              "      <th>...</th>\n",
              "      <td>...</td>\n",
              "      <td>...</td>\n",
              "      <td>...</td>\n",
              "      <td>...</td>\n",
              "      <td>...</td>\n",
              "    </tr>\n",
              "    <tr>\n",
              "      <th>995</th>\n",
              "      <td>Aplikasi sering logout sendiri , hp jadi serin...</td>\n",
              "      <td>aplikasi sering logout sendiri hp jadi sering ...</td>\n",
              "      <td>[aplikasi, sering, logout, sendiri, hp, jadi, ...</td>\n",
              "      <td>[aplikasi, sering, logout, sendiri, hp, jadi, ...</td>\n",
              "      <td>[aplikasi, logout, hp, restart, pickup, cocok,...</td>\n",
              "    </tr>\n",
              "    <tr>\n",
              "      <th>996</th>\n",
              "      <td>Overall fungsi aplikasi bagus hanya 1 yang san...</td>\n",
              "      <td>overall fungsi aplikasi bagus hanya number yan...</td>\n",
              "      <td>[overall, fungsi, aplikasi, bagus, hanya, numb...</td>\n",
              "      <td>[overall, fungsi, aplikasi, bagus, hanya, numb...</td>\n",
              "      <td>[overall, fungsi, aplikasi, bagus, number, jel...</td>\n",
              "    </tr>\n",
              "    <tr>\n",
              "      <th>997</th>\n",
              "      <td>Tampilan baru ribet dah.....enak kaya dulu tam...</td>\n",
              "      <td>tampilan baru ribet dah repeated enak kaya dul...</td>\n",
              "      <td>[tampilan, baru, ribet, dah, repeated, enak, k...</td>\n",
              "      <td>[tampilan, baru, rumit, sudah, repeated, enak,...</td>\n",
              "      <td>[tampilan, rumit, repeated, enak, kaya, tampil...</td>\n",
              "    </tr>\n",
              "    <tr>\n",
              "      <th>998</th>\n",
              "      <td>Aplikasi sudah bagus, sayangnya tombol penyele...</td>\n",
              "      <td>aplikasi sudah bagus sayangnya tombol penyeles...</td>\n",
              "      <td>[aplikasi, sudah, bagus, sayangnya, tombol, pe...</td>\n",
              "      <td>[aplikasi, sudah, bagus, sayangnya, tombol, pe...</td>\n",
              "      <td>[aplikasi, bagus, sayangnya, tombol, penyelesa...</td>\n",
              "    </tr>\n",
              "    <tr>\n",
              "      <th>999</th>\n",
              "      <td>Bikin rusak hp aja ini aplikasi driver mau nga...</td>\n",
              "      <td>bikin rusak hp aja ini aplikasi driver mau nga...</td>\n",
              "      <td>[bikin, rusak, hp, aja, ini, aplikasi, driver,...</td>\n",
              "      <td>[membuat, rusak, hp, saja, ini, aplikasi, driv...</td>\n",
              "      <td>[rusak, hp, aplikasi, driver, ngambil, orderan...</td>\n",
              "    </tr>\n",
              "  </tbody>\n",
              "</table>\n",
              "<p>1000 rows × 5 columns</p>\n",
              "</div>\n",
              "      <button class=\"colab-df-convert\" onclick=\"convertToInteractive('df-1bb29035-e913-4896-afb4-0ed3db459bc9')\"\n",
              "              title=\"Convert this dataframe to an interactive table.\"\n",
              "              style=\"display:none;\">\n",
              "        \n",
              "  <svg xmlns=\"http://www.w3.org/2000/svg\" height=\"24px\"viewBox=\"0 0 24 24\"\n",
              "       width=\"24px\">\n",
              "    <path d=\"M0 0h24v24H0V0z\" fill=\"none\"/>\n",
              "    <path d=\"M18.56 5.44l.94 2.06.94-2.06 2.06-.94-2.06-.94-.94-2.06-.94 2.06-2.06.94zm-11 1L8.5 8.5l.94-2.06 2.06-.94-2.06-.94L8.5 2.5l-.94 2.06-2.06.94zm10 10l.94 2.06.94-2.06 2.06-.94-2.06-.94-.94-2.06-.94 2.06-2.06.94z\"/><path d=\"M17.41 7.96l-1.37-1.37c-.4-.4-.92-.59-1.43-.59-.52 0-1.04.2-1.43.59L10.3 9.45l-7.72 7.72c-.78.78-.78 2.05 0 2.83L4 21.41c.39.39.9.59 1.41.59.51 0 1.02-.2 1.41-.59l7.78-7.78 2.81-2.81c.8-.78.8-2.07 0-2.86zM5.41 20L4 18.59l7.72-7.72 1.47 1.35L5.41 20z\"/>\n",
              "  </svg>\n",
              "      </button>\n",
              "      \n",
              "  <style>\n",
              "    .colab-df-container {\n",
              "      display:flex;\n",
              "      flex-wrap:wrap;\n",
              "      gap: 12px;\n",
              "    }\n",
              "\n",
              "    .colab-df-convert {\n",
              "      background-color: #E8F0FE;\n",
              "      border: none;\n",
              "      border-radius: 50%;\n",
              "      cursor: pointer;\n",
              "      display: none;\n",
              "      fill: #1967D2;\n",
              "      height: 32px;\n",
              "      padding: 0 0 0 0;\n",
              "      width: 32px;\n",
              "    }\n",
              "\n",
              "    .colab-df-convert:hover {\n",
              "      background-color: #E2EBFA;\n",
              "      box-shadow: 0px 1px 2px rgba(60, 64, 67, 0.3), 0px 1px 3px 1px rgba(60, 64, 67, 0.15);\n",
              "      fill: #174EA6;\n",
              "    }\n",
              "\n",
              "    [theme=dark] .colab-df-convert {\n",
              "      background-color: #3B4455;\n",
              "      fill: #D2E3FC;\n",
              "    }\n",
              "\n",
              "    [theme=dark] .colab-df-convert:hover {\n",
              "      background-color: #434B5C;\n",
              "      box-shadow: 0px 1px 3px 1px rgba(0, 0, 0, 0.15);\n",
              "      filter: drop-shadow(0px 1px 2px rgba(0, 0, 0, 0.3));\n",
              "      fill: #FFFFFF;\n",
              "    }\n",
              "  </style>\n",
              "\n",
              "      <script>\n",
              "        const buttonEl =\n",
              "          document.querySelector('#df-1bb29035-e913-4896-afb4-0ed3db459bc9 button.colab-df-convert');\n",
              "        buttonEl.style.display =\n",
              "          google.colab.kernel.accessAllowed ? 'block' : 'none';\n",
              "\n",
              "        async function convertToInteractive(key) {\n",
              "          const element = document.querySelector('#df-1bb29035-e913-4896-afb4-0ed3db459bc9');\n",
              "          const dataTable =\n",
              "            await google.colab.kernel.invokeFunction('convertToInteractive',\n",
              "                                                     [key], {});\n",
              "          if (!dataTable) return;\n",
              "\n",
              "          const docLinkHtml = 'Like what you see? Visit the ' +\n",
              "            '<a target=\"_blank\" href=https://colab.research.google.com/notebooks/data_table.ipynb>data table notebook</a>'\n",
              "            + ' to learn more about interactive tables.';\n",
              "          element.innerHTML = '';\n",
              "          dataTable['output_type'] = 'display_data';\n",
              "          await google.colab.output.renderOutput(dataTable, element);\n",
              "          const docLink = document.createElement('div');\n",
              "          docLink.innerHTML = docLinkHtml;\n",
              "          element.appendChild(docLink);\n",
              "        }\n",
              "      </script>\n",
              "    </div>\n",
              "  </div>\n",
              "  "
            ]
          },
          "metadata": {},
          "execution_count": 206
        }
      ]
    },
    {
      "cell_type": "code",
      "source": [
        "i=0\n",
        "final_string_tokens = []\n",
        "for text in df_new['Stop_removal'].values:\n",
        "    EachReviewText = \"\"\n",
        "    EachReviewText = ' '.join(text)\n",
        "    final_string_tokens.append(EachReviewText)"
      ],
      "metadata": {
        "id": "Cayo3VJIUEbT"
      },
      "execution_count": 207,
      "outputs": []
    },
    {
      "cell_type": "code",
      "source": [
        "df_new[\"step02\"] = final_string_tokens"
      ],
      "metadata": {
        "id": "2Y1mWXT9UJVW"
      },
      "execution_count": 208,
      "outputs": []
    },
    {
      "cell_type": "code",
      "source": [
        "df_new.head()"
      ],
      "metadata": {
        "colab": {
          "base_uri": "https://localhost:8080/",
          "height": 337
        },
        "id": "6HxTeG2HUOWd",
        "outputId": "c5d94bbf-6a4b-4b3b-fa2f-384c42724807"
      },
      "execution_count": 209,
      "outputs": [
        {
          "output_type": "execute_result",
          "data": {
            "text/plain": [
              "                                             content  \\\n",
              "0  Sangat membantu untuk aplikasi dan fitur maps ...   \n",
              "1  ini aplikasi sedang menyingkirkan mitra lamany...   \n",
              "2  Sangat membantu tp tolong dong knp klo cs yg c...   \n",
              "3  Saat anter penumpang, sdh d ksi jalur/jaln yg ...   \n",
              "4  Aplikasi yg buat driver timpang ada yg udah 20...   \n",
              "\n",
              "                                              step01  \\\n",
              "0  sangat membantu untuk aplikasi dan fitur maps ...   \n",
              "1  ini aplikasi sedang menyingkirkan mitra lamany...   \n",
              "2  sangat membantu tp tolong dong knp klo cs yg c...   \n",
              "3  saat anter penumpang sdh ksi jalur jaln yg tdk...   \n",
              "4  aplikasi yg buat driver timpang ada yg udah nu...   \n",
              "\n",
              "                                              tokens  \\\n",
              "0  [sangat, membantu, untuk, aplikasi, dan, fitur...   \n",
              "1  [ini, aplikasi, sedang, menyingkirkan, mitra, ...   \n",
              "2  [sangat, membantu, tp, tolong, dong, knp, klo,...   \n",
              "3  [saat, anter, penumpang, sdh, ksi, jalur, jaln...   \n",
              "4  [aplikasi, yg, buat, driver, timpang, ada, yg,...   \n",
              "\n",
              "                                    tokens_perbaikan  \\\n",
              "0  [sangat, membantu, untuk, aplikasi, dan, fitur...   \n",
              "1  [ini, aplikasi, sedang, menyingkirkan, mitra, ...   \n",
              "2  [sangat, membantu, tapi, tolong, dong, mengapa...   \n",
              "3  [saat, anter, penumpang, sudah, ksi, jalur, ja...   \n",
              "4  [aplikasi, yang, buat, driver, timpang, ada, y...   \n",
              "\n",
              "                                        Stop_removal  \\\n",
              "0  [membantu, aplikasi, fitur, maps, nya, semoga,...   \n",
              "1  [aplikasi, menyingkirkan, mitra, halus, ordera...   \n",
              "2  [membantu, tolong, cs, cancel, perfoma, turun,...   \n",
              "3  [anter, penumpang, ksi, jalur, jaln, macetnya,...   \n",
              "4  [aplikasi, driver, timpang, number, number, or...   \n",
              "\n",
              "                                              step02  \n",
              "0  membantu aplikasi fitur maps nya semoga kedepa...  \n",
              "1  aplikasi menyingkirkan mitra halus orderan har...  \n",
              "2  membantu tolong cs cancel perfoma turun tolong...  \n",
              "3  anter penumpang ksi jalur jaln macetnya biru m...  \n",
              "4  aplikasi driver timpang number number orderan ...  "
            ],
            "text/html": [
              "\n",
              "  <div id=\"df-215a233e-73d0-44d3-bef1-d49bd21e296f\">\n",
              "    <div class=\"colab-df-container\">\n",
              "      <div>\n",
              "<style scoped>\n",
              "    .dataframe tbody tr th:only-of-type {\n",
              "        vertical-align: middle;\n",
              "    }\n",
              "\n",
              "    .dataframe tbody tr th {\n",
              "        vertical-align: top;\n",
              "    }\n",
              "\n",
              "    .dataframe thead th {\n",
              "        text-align: right;\n",
              "    }\n",
              "</style>\n",
              "<table border=\"1\" class=\"dataframe\">\n",
              "  <thead>\n",
              "    <tr style=\"text-align: right;\">\n",
              "      <th></th>\n",
              "      <th>content</th>\n",
              "      <th>step01</th>\n",
              "      <th>tokens</th>\n",
              "      <th>tokens_perbaikan</th>\n",
              "      <th>Stop_removal</th>\n",
              "      <th>step02</th>\n",
              "    </tr>\n",
              "  </thead>\n",
              "  <tbody>\n",
              "    <tr>\n",
              "      <th>0</th>\n",
              "      <td>Sangat membantu untuk aplikasi dan fitur maps ...</td>\n",
              "      <td>sangat membantu untuk aplikasi dan fitur maps ...</td>\n",
              "      <td>[sangat, membantu, untuk, aplikasi, dan, fitur...</td>\n",
              "      <td>[sangat, membantu, untuk, aplikasi, dan, fitur...</td>\n",
              "      <td>[membantu, aplikasi, fitur, maps, nya, semoga,...</td>\n",
              "      <td>membantu aplikasi fitur maps nya semoga kedepa...</td>\n",
              "    </tr>\n",
              "    <tr>\n",
              "      <th>1</th>\n",
              "      <td>ini aplikasi sedang menyingkirkan mitra lamany...</td>\n",
              "      <td>ini aplikasi sedang menyingkirkan mitra lamany...</td>\n",
              "      <td>[ini, aplikasi, sedang, menyingkirkan, mitra, ...</td>\n",
              "      <td>[ini, aplikasi, sedang, menyingkirkan, mitra, ...</td>\n",
              "      <td>[aplikasi, menyingkirkan, mitra, halus, ordera...</td>\n",
              "      <td>aplikasi menyingkirkan mitra halus orderan har...</td>\n",
              "    </tr>\n",
              "    <tr>\n",
              "      <th>2</th>\n",
              "      <td>Sangat membantu tp tolong dong knp klo cs yg c...</td>\n",
              "      <td>sangat membantu tp tolong dong knp klo cs yg c...</td>\n",
              "      <td>[sangat, membantu, tp, tolong, dong, knp, klo,...</td>\n",
              "      <td>[sangat, membantu, tapi, tolong, dong, mengapa...</td>\n",
              "      <td>[membantu, tolong, cs, cancel, perfoma, turun,...</td>\n",
              "      <td>membantu tolong cs cancel perfoma turun tolong...</td>\n",
              "    </tr>\n",
              "    <tr>\n",
              "      <th>3</th>\n",
              "      <td>Saat anter penumpang, sdh d ksi jalur/jaln yg ...</td>\n",
              "      <td>saat anter penumpang sdh ksi jalur jaln yg tdk...</td>\n",
              "      <td>[saat, anter, penumpang, sdh, ksi, jalur, jaln...</td>\n",
              "      <td>[saat, anter, penumpang, sudah, ksi, jalur, ja...</td>\n",
              "      <td>[anter, penumpang, ksi, jalur, jaln, macetnya,...</td>\n",
              "      <td>anter penumpang ksi jalur jaln macetnya biru m...</td>\n",
              "    </tr>\n",
              "    <tr>\n",
              "      <th>4</th>\n",
              "      <td>Aplikasi yg buat driver timpang ada yg udah 20...</td>\n",
              "      <td>aplikasi yg buat driver timpang ada yg udah nu...</td>\n",
              "      <td>[aplikasi, yg, buat, driver, timpang, ada, yg,...</td>\n",
              "      <td>[aplikasi, yang, buat, driver, timpang, ada, y...</td>\n",
              "      <td>[aplikasi, driver, timpang, number, number, or...</td>\n",
              "      <td>aplikasi driver timpang number number orderan ...</td>\n",
              "    </tr>\n",
              "  </tbody>\n",
              "</table>\n",
              "</div>\n",
              "      <button class=\"colab-df-convert\" onclick=\"convertToInteractive('df-215a233e-73d0-44d3-bef1-d49bd21e296f')\"\n",
              "              title=\"Convert this dataframe to an interactive table.\"\n",
              "              style=\"display:none;\">\n",
              "        \n",
              "  <svg xmlns=\"http://www.w3.org/2000/svg\" height=\"24px\"viewBox=\"0 0 24 24\"\n",
              "       width=\"24px\">\n",
              "    <path d=\"M0 0h24v24H0V0z\" fill=\"none\"/>\n",
              "    <path d=\"M18.56 5.44l.94 2.06.94-2.06 2.06-.94-2.06-.94-.94-2.06-.94 2.06-2.06.94zm-11 1L8.5 8.5l.94-2.06 2.06-.94-2.06-.94L8.5 2.5l-.94 2.06-2.06.94zm10 10l.94 2.06.94-2.06 2.06-.94-2.06-.94-.94-2.06-.94 2.06-2.06.94z\"/><path d=\"M17.41 7.96l-1.37-1.37c-.4-.4-.92-.59-1.43-.59-.52 0-1.04.2-1.43.59L10.3 9.45l-7.72 7.72c-.78.78-.78 2.05 0 2.83L4 21.41c.39.39.9.59 1.41.59.51 0 1.02-.2 1.41-.59l7.78-7.78 2.81-2.81c.8-.78.8-2.07 0-2.86zM5.41 20L4 18.59l7.72-7.72 1.47 1.35L5.41 20z\"/>\n",
              "  </svg>\n",
              "      </button>\n",
              "      \n",
              "  <style>\n",
              "    .colab-df-container {\n",
              "      display:flex;\n",
              "      flex-wrap:wrap;\n",
              "      gap: 12px;\n",
              "    }\n",
              "\n",
              "    .colab-df-convert {\n",
              "      background-color: #E8F0FE;\n",
              "      border: none;\n",
              "      border-radius: 50%;\n",
              "      cursor: pointer;\n",
              "      display: none;\n",
              "      fill: #1967D2;\n",
              "      height: 32px;\n",
              "      padding: 0 0 0 0;\n",
              "      width: 32px;\n",
              "    }\n",
              "\n",
              "    .colab-df-convert:hover {\n",
              "      background-color: #E2EBFA;\n",
              "      box-shadow: 0px 1px 2px rgba(60, 64, 67, 0.3), 0px 1px 3px 1px rgba(60, 64, 67, 0.15);\n",
              "      fill: #174EA6;\n",
              "    }\n",
              "\n",
              "    [theme=dark] .colab-df-convert {\n",
              "      background-color: #3B4455;\n",
              "      fill: #D2E3FC;\n",
              "    }\n",
              "\n",
              "    [theme=dark] .colab-df-convert:hover {\n",
              "      background-color: #434B5C;\n",
              "      box-shadow: 0px 1px 3px 1px rgba(0, 0, 0, 0.15);\n",
              "      filter: drop-shadow(0px 1px 2px rgba(0, 0, 0, 0.3));\n",
              "      fill: #FFFFFF;\n",
              "    }\n",
              "  </style>\n",
              "\n",
              "      <script>\n",
              "        const buttonEl =\n",
              "          document.querySelector('#df-215a233e-73d0-44d3-bef1-d49bd21e296f button.colab-df-convert');\n",
              "        buttonEl.style.display =\n",
              "          google.colab.kernel.accessAllowed ? 'block' : 'none';\n",
              "\n",
              "        async function convertToInteractive(key) {\n",
              "          const element = document.querySelector('#df-215a233e-73d0-44d3-bef1-d49bd21e296f');\n",
              "          const dataTable =\n",
              "            await google.colab.kernel.invokeFunction('convertToInteractive',\n",
              "                                                     [key], {});\n",
              "          if (!dataTable) return;\n",
              "\n",
              "          const docLinkHtml = 'Like what you see? Visit the ' +\n",
              "            '<a target=\"_blank\" href=https://colab.research.google.com/notebooks/data_table.ipynb>data table notebook</a>'\n",
              "            + ' to learn more about interactive tables.';\n",
              "          element.innerHTML = '';\n",
              "          dataTable['output_type'] = 'display_data';\n",
              "          await google.colab.output.renderOutput(dataTable, element);\n",
              "          const docLink = document.createElement('div');\n",
              "          docLink.innerHTML = docLinkHtml;\n",
              "          element.appendChild(docLink);\n",
              "        }\n",
              "      </script>\n",
              "    </div>\n",
              "  </div>\n",
              "  "
            ]
          },
          "metadata": {},
          "execution_count": 209
        }
      ]
    },
    {
      "cell_type": "code",
      "source": [
        "!pip install sastrawi"
      ],
      "metadata": {
        "colab": {
          "base_uri": "https://localhost:8080/"
        },
        "id": "garohdwaUXnj",
        "outputId": "0e6707ae-69e0-4028-8f97-b59a41ab5b61"
      },
      "execution_count": 210,
      "outputs": [
        {
          "output_type": "stream",
          "name": "stdout",
          "text": [
            "Looking in indexes: https://pypi.org/simple, https://us-python.pkg.dev/colab-wheels/public/simple/\n",
            "Requirement already satisfied: sastrawi in /usr/local/lib/python3.8/dist-packages (1.0.1)\n"
          ]
        }
      ]
    },
    {
      "cell_type": "code",
      "source": [
        "from Sastrawi.Stemmer.StemmerFactory import StemmerFactory\n",
        "factory = StemmerFactory()\n",
        "stemmer = factory.create_stemmer()"
      ],
      "metadata": {
        "id": "5ojAw5l-Ubvq"
      },
      "execution_count": 211,
      "outputs": []
    },
    {
      "cell_type": "code",
      "source": [
        "i=0\n",
        "final_string = []\n",
        "s = \"\"\n",
        "for sentence in df_new[\"step02\"].values:\n",
        "    filteredSentence = []\n",
        "    EachReviewText = \"\"\n",
        "    s = (stemmer.stem(sentence))\n",
        "    filteredSentence.append(s)\n",
        "    \n",
        "    EachReviewText = ' '.join(filteredSentence)\n",
        "    final_string.append(EachReviewText)"
      ],
      "metadata": {
        "id": "QKPTKr-gUgRI"
      },
      "execution_count": 212,
      "outputs": []
    },
    {
      "cell_type": "code",
      "source": [
        "df_new[\"ProcessedText\"] = final_string"
      ],
      "metadata": {
        "id": "CSQ2MmQ-UnNp"
      },
      "execution_count": 213,
      "outputs": []
    },
    {
      "cell_type": "code",
      "source": [
        "df_new.head(10)"
      ],
      "metadata": {
        "colab": {
          "base_uri": "https://localhost:8080/",
          "height": 633
        },
        "id": "VvDmO6QuUpt6",
        "outputId": "f50a8ac7-1423-4375-acc4-0d7063a75f55"
      },
      "execution_count": 214,
      "outputs": [
        {
          "output_type": "execute_result",
          "data": {
            "text/plain": [
              "                                             content  \\\n",
              "0  Sangat membantu untuk aplikasi dan fitur maps ...   \n",
              "1  ini aplikasi sedang menyingkirkan mitra lamany...   \n",
              "2  Sangat membantu tp tolong dong knp klo cs yg c...   \n",
              "3  Saat anter penumpang, sdh d ksi jalur/jaln yg ...   \n",
              "4  Aplikasi yg buat driver timpang ada yg udah 20...   \n",
              "5  Update terbaru masih aja Aplikasi sering kelua...   \n",
              "6  Driver kena orderan fiktif tidak di ganti, jik...   \n",
              "7  1. Nada dering aplikasi jangan mengikuti nada ...   \n",
              "8  Baterai jadi lebih boros, cepat panas, titik k...   \n",
              "9  Aplikasi yang jelas2 sudah off bid tiba2 masuk...   \n",
              "\n",
              "                                              step01  \\\n",
              "0  sangat membantu untuk aplikasi dan fitur maps ...   \n",
              "1  ini aplikasi sedang menyingkirkan mitra lamany...   \n",
              "2  sangat membantu tp tolong dong knp klo cs yg c...   \n",
              "3  saat anter penumpang sdh ksi jalur jaln yg tdk...   \n",
              "4  aplikasi yg buat driver timpang ada yg udah nu...   \n",
              "5  update terbaru masih aja aplikasi sering kelua...   \n",
              "6  driver kena orderan fiktif tidak di ganti jika...   \n",
              "7  number nada dering aplikasi jangan mengikuti n...   \n",
              "8  baterai jadi lebih boros cepat panas titik kad...   \n",
              "9  aplikasi yang jelas2 sudah off bid tiba2 masuk...   \n",
              "\n",
              "                                              tokens  \\\n",
              "0  [sangat, membantu, untuk, aplikasi, dan, fitur...   \n",
              "1  [ini, aplikasi, sedang, menyingkirkan, mitra, ...   \n",
              "2  [sangat, membantu, tp, tolong, dong, knp, klo,...   \n",
              "3  [saat, anter, penumpang, sdh, ksi, jalur, jaln...   \n",
              "4  [aplikasi, yg, buat, driver, timpang, ada, yg,...   \n",
              "5  [update, terbaru, masih, aja, aplikasi, sering...   \n",
              "6  [driver, kena, orderan, fiktif, tidak, di, gan...   \n",
              "7  [number, nada, dering, aplikasi, jangan, mengi...   \n",
              "8  [baterai, jadi, lebih, boros, cepat, panas, ti...   \n",
              "9  [aplikasi, yang, jelas2, sudah, off, bid, tiba...   \n",
              "\n",
              "                                    tokens_perbaikan  \\\n",
              "0  [sangat, membantu, untuk, aplikasi, dan, fitur...   \n",
              "1  [ini, aplikasi, sedang, menyingkirkan, mitra, ...   \n",
              "2  [sangat, membantu, tapi, tolong, dong, mengapa...   \n",
              "3  [saat, anter, penumpang, sudah, ksi, jalur, ja...   \n",
              "4  [aplikasi, yang, buat, driver, timpang, ada, y...   \n",
              "5  [update, terbaru, masih, saja, aplikasi, serin...   \n",
              "6  [driver, kena, orderan, fiktif, tidak, di, gan...   \n",
              "7  [number, nada, dering, aplikasi, jangan, mengi...   \n",
              "8  [baterai, jadi, lebih, boros, cepat, panas, ti...   \n",
              "9  [aplikasi, yang, jelas2, sudah, off, bid, tiba...   \n",
              "\n",
              "                                        Stop_removal  \\\n",
              "0  [membantu, aplikasi, fitur, maps, nya, semoga,...   \n",
              "1  [aplikasi, menyingkirkan, mitra, halus, ordera...   \n",
              "2  [membantu, tolong, cs, cancel, perfoma, turun,...   \n",
              "3  [anter, penumpang, ksi, jalur, jaln, macetnya,...   \n",
              "4  [aplikasi, driver, timpang, number, number, or...   \n",
              "5  [update, terbaru, aplikasi, update, prasangka,...   \n",
              "6  [driver, kena, orderan, fiktif, ganti, aturan,...   \n",
              "7  [number, nada, dering, aplikasi, mengikuti, na...   \n",
              "8      [baterai, boros, cepat, panas, titik, kadang]   \n",
              "9  [aplikasi, jelas2, off, bid, tiba2, masuk, ord...   \n",
              "\n",
              "                                              step02  \\\n",
              "0  membantu aplikasi fitur maps nya semoga kedepa...   \n",
              "1  aplikasi menyingkirkan mitra halus orderan har...   \n",
              "2  membantu tolong cs cancel perfoma turun tolong...   \n",
              "3  anter penumpang ksi jalur jaln macetnya biru m...   \n",
              "4  aplikasi driver timpang number number orderan ...   \n",
              "5  update terbaru aplikasi update prasangka sepi ...   \n",
              "6  driver kena orderan fiktif ganti aturan main m...   \n",
              "7  number nada dering aplikasi mengikuti nada der...   \n",
              "8             baterai boros cepat panas titik kadang   \n",
              "9  aplikasi jelas2 off bid tiba2 masuk orderan to...   \n",
              "\n",
              "                                       ProcessedText  \n",
              "0           bantu aplikasi fitur maps nya moga depan  \n",
              "1  aplikasi singkir mitra halus order hari mitra ...  \n",
              "2  bantu tolong cs cancel perfoma turun tolong be...  \n",
              "3  anter tumpang ksi jalur jaln macet biru maps c...  \n",
              "4  aplikasi driver timpang number number order sa...  \n",
              "5  update baru aplikasi update prasangka sepi tau...  \n",
              "6  driver kena order fiktif ganti atur main batas...  \n",
              "7  number nada dering aplikasi ikut nada dering p...  \n",
              "8             baterai boros cepat panas titik kadang  \n",
              "9  aplikasi jelas2 off bid tiba2 masuk order tolo...  "
            ],
            "text/html": [
              "\n",
              "  <div id=\"df-f96174ac-c158-4ce8-a3ac-962f23dc1206\">\n",
              "    <div class=\"colab-df-container\">\n",
              "      <div>\n",
              "<style scoped>\n",
              "    .dataframe tbody tr th:only-of-type {\n",
              "        vertical-align: middle;\n",
              "    }\n",
              "\n",
              "    .dataframe tbody tr th {\n",
              "        vertical-align: top;\n",
              "    }\n",
              "\n",
              "    .dataframe thead th {\n",
              "        text-align: right;\n",
              "    }\n",
              "</style>\n",
              "<table border=\"1\" class=\"dataframe\">\n",
              "  <thead>\n",
              "    <tr style=\"text-align: right;\">\n",
              "      <th></th>\n",
              "      <th>content</th>\n",
              "      <th>step01</th>\n",
              "      <th>tokens</th>\n",
              "      <th>tokens_perbaikan</th>\n",
              "      <th>Stop_removal</th>\n",
              "      <th>step02</th>\n",
              "      <th>ProcessedText</th>\n",
              "    </tr>\n",
              "  </thead>\n",
              "  <tbody>\n",
              "    <tr>\n",
              "      <th>0</th>\n",
              "      <td>Sangat membantu untuk aplikasi dan fitur maps ...</td>\n",
              "      <td>sangat membantu untuk aplikasi dan fitur maps ...</td>\n",
              "      <td>[sangat, membantu, untuk, aplikasi, dan, fitur...</td>\n",
              "      <td>[sangat, membantu, untuk, aplikasi, dan, fitur...</td>\n",
              "      <td>[membantu, aplikasi, fitur, maps, nya, semoga,...</td>\n",
              "      <td>membantu aplikasi fitur maps nya semoga kedepa...</td>\n",
              "      <td>bantu aplikasi fitur maps nya moga depan</td>\n",
              "    </tr>\n",
              "    <tr>\n",
              "      <th>1</th>\n",
              "      <td>ini aplikasi sedang menyingkirkan mitra lamany...</td>\n",
              "      <td>ini aplikasi sedang menyingkirkan mitra lamany...</td>\n",
              "      <td>[ini, aplikasi, sedang, menyingkirkan, mitra, ...</td>\n",
              "      <td>[ini, aplikasi, sedang, menyingkirkan, mitra, ...</td>\n",
              "      <td>[aplikasi, menyingkirkan, mitra, halus, ordera...</td>\n",
              "      <td>aplikasi menyingkirkan mitra halus orderan har...</td>\n",
              "      <td>aplikasi singkir mitra halus order hari mitra ...</td>\n",
              "    </tr>\n",
              "    <tr>\n",
              "      <th>2</th>\n",
              "      <td>Sangat membantu tp tolong dong knp klo cs yg c...</td>\n",
              "      <td>sangat membantu tp tolong dong knp klo cs yg c...</td>\n",
              "      <td>[sangat, membantu, tp, tolong, dong, knp, klo,...</td>\n",
              "      <td>[sangat, membantu, tapi, tolong, dong, mengapa...</td>\n",
              "      <td>[membantu, tolong, cs, cancel, perfoma, turun,...</td>\n",
              "      <td>membantu tolong cs cancel perfoma turun tolong...</td>\n",
              "      <td>bantu tolong cs cancel perfoma turun tolong be...</td>\n",
              "    </tr>\n",
              "    <tr>\n",
              "      <th>3</th>\n",
              "      <td>Saat anter penumpang, sdh d ksi jalur/jaln yg ...</td>\n",
              "      <td>saat anter penumpang sdh ksi jalur jaln yg tdk...</td>\n",
              "      <td>[saat, anter, penumpang, sdh, ksi, jalur, jaln...</td>\n",
              "      <td>[saat, anter, penumpang, sudah, ksi, jalur, ja...</td>\n",
              "      <td>[anter, penumpang, ksi, jalur, jaln, macetnya,...</td>\n",
              "      <td>anter penumpang ksi jalur jaln macetnya biru m...</td>\n",
              "      <td>anter tumpang ksi jalur jaln macet biru maps c...</td>\n",
              "    </tr>\n",
              "    <tr>\n",
              "      <th>4</th>\n",
              "      <td>Aplikasi yg buat driver timpang ada yg udah 20...</td>\n",
              "      <td>aplikasi yg buat driver timpang ada yg udah nu...</td>\n",
              "      <td>[aplikasi, yg, buat, driver, timpang, ada, yg,...</td>\n",
              "      <td>[aplikasi, yang, buat, driver, timpang, ada, y...</td>\n",
              "      <td>[aplikasi, driver, timpang, number, number, or...</td>\n",
              "      <td>aplikasi driver timpang number number orderan ...</td>\n",
              "      <td>aplikasi driver timpang number number order sa...</td>\n",
              "    </tr>\n",
              "    <tr>\n",
              "      <th>5</th>\n",
              "      <td>Update terbaru masih aja Aplikasi sering kelua...</td>\n",
              "      <td>update terbaru masih aja aplikasi sering kelua...</td>\n",
              "      <td>[update, terbaru, masih, aja, aplikasi, sering...</td>\n",
              "      <td>[update, terbaru, masih, saja, aplikasi, serin...</td>\n",
              "      <td>[update, terbaru, aplikasi, update, prasangka,...</td>\n",
              "      <td>update terbaru aplikasi update prasangka sepi ...</td>\n",
              "      <td>update baru aplikasi update prasangka sepi tau...</td>\n",
              "    </tr>\n",
              "    <tr>\n",
              "      <th>6</th>\n",
              "      <td>Driver kena orderan fiktif tidak di ganti, jik...</td>\n",
              "      <td>driver kena orderan fiktif tidak di ganti jika...</td>\n",
              "      <td>[driver, kena, orderan, fiktif, tidak, di, gan...</td>\n",
              "      <td>[driver, kena, orderan, fiktif, tidak, di, gan...</td>\n",
              "      <td>[driver, kena, orderan, fiktif, ganti, aturan,...</td>\n",
              "      <td>driver kena orderan fiktif ganti aturan main m...</td>\n",
              "      <td>driver kena order fiktif ganti atur main batas...</td>\n",
              "    </tr>\n",
              "    <tr>\n",
              "      <th>7</th>\n",
              "      <td>1. Nada dering aplikasi jangan mengikuti nada ...</td>\n",
              "      <td>number nada dering aplikasi jangan mengikuti n...</td>\n",
              "      <td>[number, nada, dering, aplikasi, jangan, mengi...</td>\n",
              "      <td>[number, nada, dering, aplikasi, jangan, mengi...</td>\n",
              "      <td>[number, nada, dering, aplikasi, mengikuti, na...</td>\n",
              "      <td>number nada dering aplikasi mengikuti nada der...</td>\n",
              "      <td>number nada dering aplikasi ikut nada dering p...</td>\n",
              "    </tr>\n",
              "    <tr>\n",
              "      <th>8</th>\n",
              "      <td>Baterai jadi lebih boros, cepat panas, titik k...</td>\n",
              "      <td>baterai jadi lebih boros cepat panas titik kad...</td>\n",
              "      <td>[baterai, jadi, lebih, boros, cepat, panas, ti...</td>\n",
              "      <td>[baterai, jadi, lebih, boros, cepat, panas, ti...</td>\n",
              "      <td>[baterai, boros, cepat, panas, titik, kadang]</td>\n",
              "      <td>baterai boros cepat panas titik kadang</td>\n",
              "      <td>baterai boros cepat panas titik kadang</td>\n",
              "    </tr>\n",
              "    <tr>\n",
              "      <th>9</th>\n",
              "      <td>Aplikasi yang jelas2 sudah off bid tiba2 masuk...</td>\n",
              "      <td>aplikasi yang jelas2 sudah off bid tiba2 masuk...</td>\n",
              "      <td>[aplikasi, yang, jelas2, sudah, off, bid, tiba...</td>\n",
              "      <td>[aplikasi, yang, jelas2, sudah, off, bid, tiba...</td>\n",
              "      <td>[aplikasi, jelas2, off, bid, tiba2, masuk, ord...</td>\n",
              "      <td>aplikasi jelas2 off bid tiba2 masuk orderan to...</td>\n",
              "      <td>aplikasi jelas2 off bid tiba2 masuk order tolo...</td>\n",
              "    </tr>\n",
              "  </tbody>\n",
              "</table>\n",
              "</div>\n",
              "      <button class=\"colab-df-convert\" onclick=\"convertToInteractive('df-f96174ac-c158-4ce8-a3ac-962f23dc1206')\"\n",
              "              title=\"Convert this dataframe to an interactive table.\"\n",
              "              style=\"display:none;\">\n",
              "        \n",
              "  <svg xmlns=\"http://www.w3.org/2000/svg\" height=\"24px\"viewBox=\"0 0 24 24\"\n",
              "       width=\"24px\">\n",
              "    <path d=\"M0 0h24v24H0V0z\" fill=\"none\"/>\n",
              "    <path d=\"M18.56 5.44l.94 2.06.94-2.06 2.06-.94-2.06-.94-.94-2.06-.94 2.06-2.06.94zm-11 1L8.5 8.5l.94-2.06 2.06-.94-2.06-.94L8.5 2.5l-.94 2.06-2.06.94zm10 10l.94 2.06.94-2.06 2.06-.94-2.06-.94-.94-2.06-.94 2.06-2.06.94z\"/><path d=\"M17.41 7.96l-1.37-1.37c-.4-.4-.92-.59-1.43-.59-.52 0-1.04.2-1.43.59L10.3 9.45l-7.72 7.72c-.78.78-.78 2.05 0 2.83L4 21.41c.39.39.9.59 1.41.59.51 0 1.02-.2 1.41-.59l7.78-7.78 2.81-2.81c.8-.78.8-2.07 0-2.86zM5.41 20L4 18.59l7.72-7.72 1.47 1.35L5.41 20z\"/>\n",
              "  </svg>\n",
              "      </button>\n",
              "      \n",
              "  <style>\n",
              "    .colab-df-container {\n",
              "      display:flex;\n",
              "      flex-wrap:wrap;\n",
              "      gap: 12px;\n",
              "    }\n",
              "\n",
              "    .colab-df-convert {\n",
              "      background-color: #E8F0FE;\n",
              "      border: none;\n",
              "      border-radius: 50%;\n",
              "      cursor: pointer;\n",
              "      display: none;\n",
              "      fill: #1967D2;\n",
              "      height: 32px;\n",
              "      padding: 0 0 0 0;\n",
              "      width: 32px;\n",
              "    }\n",
              "\n",
              "    .colab-df-convert:hover {\n",
              "      background-color: #E2EBFA;\n",
              "      box-shadow: 0px 1px 2px rgba(60, 64, 67, 0.3), 0px 1px 3px 1px rgba(60, 64, 67, 0.15);\n",
              "      fill: #174EA6;\n",
              "    }\n",
              "\n",
              "    [theme=dark] .colab-df-convert {\n",
              "      background-color: #3B4455;\n",
              "      fill: #D2E3FC;\n",
              "    }\n",
              "\n",
              "    [theme=dark] .colab-df-convert:hover {\n",
              "      background-color: #434B5C;\n",
              "      box-shadow: 0px 1px 3px 1px rgba(0, 0, 0, 0.15);\n",
              "      filter: drop-shadow(0px 1px 2px rgba(0, 0, 0, 0.3));\n",
              "      fill: #FFFFFF;\n",
              "    }\n",
              "  </style>\n",
              "\n",
              "      <script>\n",
              "        const buttonEl =\n",
              "          document.querySelector('#df-f96174ac-c158-4ce8-a3ac-962f23dc1206 button.colab-df-convert');\n",
              "        buttonEl.style.display =\n",
              "          google.colab.kernel.accessAllowed ? 'block' : 'none';\n",
              "\n",
              "        async function convertToInteractive(key) {\n",
              "          const element = document.querySelector('#df-f96174ac-c158-4ce8-a3ac-962f23dc1206');\n",
              "          const dataTable =\n",
              "            await google.colab.kernel.invokeFunction('convertToInteractive',\n",
              "                                                     [key], {});\n",
              "          if (!dataTable) return;\n",
              "\n",
              "          const docLinkHtml = 'Like what you see? Visit the ' +\n",
              "            '<a target=\"_blank\" href=https://colab.research.google.com/notebooks/data_table.ipynb>data table notebook</a>'\n",
              "            + ' to learn more about interactive tables.';\n",
              "          element.innerHTML = '';\n",
              "          dataTable['output_type'] = 'display_data';\n",
              "          await google.colab.output.renderOutput(dataTable, element);\n",
              "          const docLink = document.createElement('div');\n",
              "          docLink.innerHTML = docLinkHtml;\n",
              "          element.appendChild(docLink);\n",
              "        }\n",
              "      </script>\n",
              "    </div>\n",
              "  </div>\n",
              "  "
            ]
          },
          "metadata": {},
          "execution_count": 214
        }
      ]
    },
    {
      "cell_type": "code",
      "source": [
        "df_new.to_csv('/content/drive/My Drive/Colab Notebooks/clean_dataset_part01.csv',sep=\";\")"
      ],
      "metadata": {
        "id": "2WYfMGVMUvaE"
      },
      "execution_count": 215,
      "outputs": []
    },
    {
      "cell_type": "code",
      "source": [
        "import nltk\n",
        "from nltk.sentiment.vader import SentimentIntensityAnalyzer\n",
        "nltk.download(\"vader_lexicon\")\n",
        "import pandas as pd\n",
        "data = pd.read_csv('/content/drive/My Drive/Colab Notebooks/clean_dataset_part01.csv',sep=\";\")\n"
      ],
      "metadata": {
        "colab": {
          "base_uri": "https://localhost:8080/"
        },
        "id": "SPFbvGQ4YLvt",
        "outputId": "670defc8-62c6-4548-9845-fc412c02a094"
      },
      "execution_count": 216,
      "outputs": [
        {
          "output_type": "stream",
          "name": "stderr",
          "text": [
            "[nltk_data] Downloading package vader_lexicon to /root/nltk_data...\n",
            "[nltk_data]   Package vader_lexicon is already up-to-date!\n"
          ]
        }
      ]
    },
    {
      "cell_type": "code",
      "source": [
        "sentiments = SentimentIntensityAnalyzer()\n",
        "data[\"1\"] = [sentiments.polarity_scores(i)[\"pos\"] for i in data[\"ProcessedText\"]]\n",
        "data[\"-1\"] = [sentiments.polarity_scores(i)[\"neg\"] for i in data[\"ProcessedText\"]]\n",
        "data[\"0\"] = [sentiments.polarity_scores(i)[\"neu\"] for i in data[\"ProcessedText\"]]\n",
        "data['Compound'] = [sentiments.polarity_scores(i)[\"compound\"] for i in data[\"ProcessedText\"]]\n",
        "data.head()"
      ],
      "metadata": {
        "colab": {
          "base_uri": "https://localhost:8080/",
          "height": 458
        },
        "id": "z7YtKQ1SJVzW",
        "outputId": "b240ffc8-0695-44d2-d80b-53c80d090dd7"
      },
      "execution_count": 217,
      "outputs": [
        {
          "output_type": "execute_result",
          "data": {
            "text/plain": [
              "   Unnamed: 0                                            content  \\\n",
              "0           0  Sangat membantu untuk aplikasi dan fitur maps ...   \n",
              "1           1  ini aplikasi sedang menyingkirkan mitra lamany...   \n",
              "2           2  Sangat membantu tp tolong dong knp klo cs yg c...   \n",
              "3           3  Saat anter penumpang, sdh d ksi jalur/jaln yg ...   \n",
              "4           4  Aplikasi yg buat driver timpang ada yg udah 20...   \n",
              "\n",
              "                                              step01  \\\n",
              "0  sangat membantu untuk aplikasi dan fitur maps ...   \n",
              "1  ini aplikasi sedang menyingkirkan mitra lamany...   \n",
              "2  sangat membantu tp tolong dong knp klo cs yg c...   \n",
              "3  saat anter penumpang sdh ksi jalur jaln yg tdk...   \n",
              "4  aplikasi yg buat driver timpang ada yg udah nu...   \n",
              "\n",
              "                                              tokens  \\\n",
              "0  ['sangat', 'membantu', 'untuk', 'aplikasi', 'd...   \n",
              "1  ['ini', 'aplikasi', 'sedang', 'menyingkirkan',...   \n",
              "2  ['sangat', 'membantu', 'tp', 'tolong', 'dong',...   \n",
              "3  ['saat', 'anter', 'penumpang', 'sdh', 'ksi', '...   \n",
              "4  ['aplikasi', 'yg', 'buat', 'driver', 'timpang'...   \n",
              "\n",
              "                                    tokens_perbaikan  \\\n",
              "0  ['sangat', 'membantu', 'untuk', 'aplikasi', 'd...   \n",
              "1  ['ini', 'aplikasi', 'sedang', 'menyingkirkan',...   \n",
              "2  ['sangat', 'membantu', 'tapi', 'tolong', 'dong...   \n",
              "3  ['saat', 'anter', 'penumpang', 'sudah', 'ksi',...   \n",
              "4  ['aplikasi', 'yang', 'buat', 'driver', 'timpan...   \n",
              "\n",
              "                                        Stop_removal  \\\n",
              "0  ['membantu', 'aplikasi', 'fitur', 'maps', 'nya...   \n",
              "1  ['aplikasi', 'menyingkirkan', 'mitra', 'halus'...   \n",
              "2  ['membantu', 'tolong', 'cs', 'cancel', 'perfom...   \n",
              "3  ['anter', 'penumpang', 'ksi', 'jalur', 'jaln',...   \n",
              "4  ['aplikasi', 'driver', 'timpang', 'number', 'n...   \n",
              "\n",
              "                                              step02  \\\n",
              "0  membantu aplikasi fitur maps nya semoga kedepa...   \n",
              "1  aplikasi menyingkirkan mitra halus orderan har...   \n",
              "2  membantu tolong cs cancel perfoma turun tolong...   \n",
              "3  anter penumpang ksi jalur jaln macetnya biru m...   \n",
              "4  aplikasi driver timpang number number orderan ...   \n",
              "\n",
              "                                       ProcessedText      1     -1      0  \\\n",
              "0           bantu aplikasi fitur maps nya moga depan  0.000  0.000  1.000   \n",
              "1  aplikasi singkir mitra halus order hari mitra ...  0.000  0.000  1.000   \n",
              "2  bantu tolong cs cancel perfoma turun tolong be...  0.000  0.182  0.818   \n",
              "3  anter tumpang ksi jalur jaln macet biru maps c...  0.000  0.000  1.000   \n",
              "4  aplikasi driver timpang number number order sa...  0.245  0.000  0.755   \n",
              "\n",
              "   Compound  \n",
              "0    0.0000  \n",
              "1    0.0000  \n",
              "2   -0.2500  \n",
              "3    0.0000  \n",
              "4    0.1531  "
            ],
            "text/html": [
              "\n",
              "  <div id=\"df-0d1b9879-a025-4687-bc1c-99029c5ed9c0\">\n",
              "    <div class=\"colab-df-container\">\n",
              "      <div>\n",
              "<style scoped>\n",
              "    .dataframe tbody tr th:only-of-type {\n",
              "        vertical-align: middle;\n",
              "    }\n",
              "\n",
              "    .dataframe tbody tr th {\n",
              "        vertical-align: top;\n",
              "    }\n",
              "\n",
              "    .dataframe thead th {\n",
              "        text-align: right;\n",
              "    }\n",
              "</style>\n",
              "<table border=\"1\" class=\"dataframe\">\n",
              "  <thead>\n",
              "    <tr style=\"text-align: right;\">\n",
              "      <th></th>\n",
              "      <th>Unnamed: 0</th>\n",
              "      <th>content</th>\n",
              "      <th>step01</th>\n",
              "      <th>tokens</th>\n",
              "      <th>tokens_perbaikan</th>\n",
              "      <th>Stop_removal</th>\n",
              "      <th>step02</th>\n",
              "      <th>ProcessedText</th>\n",
              "      <th>1</th>\n",
              "      <th>-1</th>\n",
              "      <th>0</th>\n",
              "      <th>Compound</th>\n",
              "    </tr>\n",
              "  </thead>\n",
              "  <tbody>\n",
              "    <tr>\n",
              "      <th>0</th>\n",
              "      <td>0</td>\n",
              "      <td>Sangat membantu untuk aplikasi dan fitur maps ...</td>\n",
              "      <td>sangat membantu untuk aplikasi dan fitur maps ...</td>\n",
              "      <td>['sangat', 'membantu', 'untuk', 'aplikasi', 'd...</td>\n",
              "      <td>['sangat', 'membantu', 'untuk', 'aplikasi', 'd...</td>\n",
              "      <td>['membantu', 'aplikasi', 'fitur', 'maps', 'nya...</td>\n",
              "      <td>membantu aplikasi fitur maps nya semoga kedepa...</td>\n",
              "      <td>bantu aplikasi fitur maps nya moga depan</td>\n",
              "      <td>0.000</td>\n",
              "      <td>0.000</td>\n",
              "      <td>1.000</td>\n",
              "      <td>0.0000</td>\n",
              "    </tr>\n",
              "    <tr>\n",
              "      <th>1</th>\n",
              "      <td>1</td>\n",
              "      <td>ini aplikasi sedang menyingkirkan mitra lamany...</td>\n",
              "      <td>ini aplikasi sedang menyingkirkan mitra lamany...</td>\n",
              "      <td>['ini', 'aplikasi', 'sedang', 'menyingkirkan',...</td>\n",
              "      <td>['ini', 'aplikasi', 'sedang', 'menyingkirkan',...</td>\n",
              "      <td>['aplikasi', 'menyingkirkan', 'mitra', 'halus'...</td>\n",
              "      <td>aplikasi menyingkirkan mitra halus orderan har...</td>\n",
              "      <td>aplikasi singkir mitra halus order hari mitra ...</td>\n",
              "      <td>0.000</td>\n",
              "      <td>0.000</td>\n",
              "      <td>1.000</td>\n",
              "      <td>0.0000</td>\n",
              "    </tr>\n",
              "    <tr>\n",
              "      <th>2</th>\n",
              "      <td>2</td>\n",
              "      <td>Sangat membantu tp tolong dong knp klo cs yg c...</td>\n",
              "      <td>sangat membantu tp tolong dong knp klo cs yg c...</td>\n",
              "      <td>['sangat', 'membantu', 'tp', 'tolong', 'dong',...</td>\n",
              "      <td>['sangat', 'membantu', 'tapi', 'tolong', 'dong...</td>\n",
              "      <td>['membantu', 'tolong', 'cs', 'cancel', 'perfom...</td>\n",
              "      <td>membantu tolong cs cancel perfoma turun tolong...</td>\n",
              "      <td>bantu tolong cs cancel perfoma turun tolong be...</td>\n",
              "      <td>0.000</td>\n",
              "      <td>0.182</td>\n",
              "      <td>0.818</td>\n",
              "      <td>-0.2500</td>\n",
              "    </tr>\n",
              "    <tr>\n",
              "      <th>3</th>\n",
              "      <td>3</td>\n",
              "      <td>Saat anter penumpang, sdh d ksi jalur/jaln yg ...</td>\n",
              "      <td>saat anter penumpang sdh ksi jalur jaln yg tdk...</td>\n",
              "      <td>['saat', 'anter', 'penumpang', 'sdh', 'ksi', '...</td>\n",
              "      <td>['saat', 'anter', 'penumpang', 'sudah', 'ksi',...</td>\n",
              "      <td>['anter', 'penumpang', 'ksi', 'jalur', 'jaln',...</td>\n",
              "      <td>anter penumpang ksi jalur jaln macetnya biru m...</td>\n",
              "      <td>anter tumpang ksi jalur jaln macet biru maps c...</td>\n",
              "      <td>0.000</td>\n",
              "      <td>0.000</td>\n",
              "      <td>1.000</td>\n",
              "      <td>0.0000</td>\n",
              "    </tr>\n",
              "    <tr>\n",
              "      <th>4</th>\n",
              "      <td>4</td>\n",
              "      <td>Aplikasi yg buat driver timpang ada yg udah 20...</td>\n",
              "      <td>aplikasi yg buat driver timpang ada yg udah nu...</td>\n",
              "      <td>['aplikasi', 'yg', 'buat', 'driver', 'timpang'...</td>\n",
              "      <td>['aplikasi', 'yang', 'buat', 'driver', 'timpan...</td>\n",
              "      <td>['aplikasi', 'driver', 'timpang', 'number', 'n...</td>\n",
              "      <td>aplikasi driver timpang number number orderan ...</td>\n",
              "      <td>aplikasi driver timpang number number order sa...</td>\n",
              "      <td>0.245</td>\n",
              "      <td>0.000</td>\n",
              "      <td>0.755</td>\n",
              "      <td>0.1531</td>\n",
              "    </tr>\n",
              "  </tbody>\n",
              "</table>\n",
              "</div>\n",
              "      <button class=\"colab-df-convert\" onclick=\"convertToInteractive('df-0d1b9879-a025-4687-bc1c-99029c5ed9c0')\"\n",
              "              title=\"Convert this dataframe to an interactive table.\"\n",
              "              style=\"display:none;\">\n",
              "        \n",
              "  <svg xmlns=\"http://www.w3.org/2000/svg\" height=\"24px\"viewBox=\"0 0 24 24\"\n",
              "       width=\"24px\">\n",
              "    <path d=\"M0 0h24v24H0V0z\" fill=\"none\"/>\n",
              "    <path d=\"M18.56 5.44l.94 2.06.94-2.06 2.06-.94-2.06-.94-.94-2.06-.94 2.06-2.06.94zm-11 1L8.5 8.5l.94-2.06 2.06-.94-2.06-.94L8.5 2.5l-.94 2.06-2.06.94zm10 10l.94 2.06.94-2.06 2.06-.94-2.06-.94-.94-2.06-.94 2.06-2.06.94z\"/><path d=\"M17.41 7.96l-1.37-1.37c-.4-.4-.92-.59-1.43-.59-.52 0-1.04.2-1.43.59L10.3 9.45l-7.72 7.72c-.78.78-.78 2.05 0 2.83L4 21.41c.39.39.9.59 1.41.59.51 0 1.02-.2 1.41-.59l7.78-7.78 2.81-2.81c.8-.78.8-2.07 0-2.86zM5.41 20L4 18.59l7.72-7.72 1.47 1.35L5.41 20z\"/>\n",
              "  </svg>\n",
              "      </button>\n",
              "      \n",
              "  <style>\n",
              "    .colab-df-container {\n",
              "      display:flex;\n",
              "      flex-wrap:wrap;\n",
              "      gap: 12px;\n",
              "    }\n",
              "\n",
              "    .colab-df-convert {\n",
              "      background-color: #E8F0FE;\n",
              "      border: none;\n",
              "      border-radius: 50%;\n",
              "      cursor: pointer;\n",
              "      display: none;\n",
              "      fill: #1967D2;\n",
              "      height: 32px;\n",
              "      padding: 0 0 0 0;\n",
              "      width: 32px;\n",
              "    }\n",
              "\n",
              "    .colab-df-convert:hover {\n",
              "      background-color: #E2EBFA;\n",
              "      box-shadow: 0px 1px 2px rgba(60, 64, 67, 0.3), 0px 1px 3px 1px rgba(60, 64, 67, 0.15);\n",
              "      fill: #174EA6;\n",
              "    }\n",
              "\n",
              "    [theme=dark] .colab-df-convert {\n",
              "      background-color: #3B4455;\n",
              "      fill: #D2E3FC;\n",
              "    }\n",
              "\n",
              "    [theme=dark] .colab-df-convert:hover {\n",
              "      background-color: #434B5C;\n",
              "      box-shadow: 0px 1px 3px 1px rgba(0, 0, 0, 0.15);\n",
              "      filter: drop-shadow(0px 1px 2px rgba(0, 0, 0, 0.3));\n",
              "      fill: #FFFFFF;\n",
              "    }\n",
              "  </style>\n",
              "\n",
              "      <script>\n",
              "        const buttonEl =\n",
              "          document.querySelector('#df-0d1b9879-a025-4687-bc1c-99029c5ed9c0 button.colab-df-convert');\n",
              "        buttonEl.style.display =\n",
              "          google.colab.kernel.accessAllowed ? 'block' : 'none';\n",
              "\n",
              "        async function convertToInteractive(key) {\n",
              "          const element = document.querySelector('#df-0d1b9879-a025-4687-bc1c-99029c5ed9c0');\n",
              "          const dataTable =\n",
              "            await google.colab.kernel.invokeFunction('convertToInteractive',\n",
              "                                                     [key], {});\n",
              "          if (!dataTable) return;\n",
              "\n",
              "          const docLinkHtml = 'Like what you see? Visit the ' +\n",
              "            '<a target=\"_blank\" href=https://colab.research.google.com/notebooks/data_table.ipynb>data table notebook</a>'\n",
              "            + ' to learn more about interactive tables.';\n",
              "          element.innerHTML = '';\n",
              "          dataTable['output_type'] = 'display_data';\n",
              "          await google.colab.output.renderOutput(dataTable, element);\n",
              "          const docLink = document.createElement('div');\n",
              "          docLink.innerHTML = docLinkHtml;\n",
              "          element.appendChild(docLink);\n",
              "        }\n",
              "      </script>\n",
              "    </div>\n",
              "  </div>\n",
              "  "
            ]
          },
          "metadata": {},
          "execution_count": 217
        }
      ]
    },
    {
      "cell_type": "code",
      "source": [
        "score = data[\"Compound\"].values\n",
        "sentiment = []\n",
        "for i in score:\n",
        "    if i >= 0.05 :\n",
        "        sentiment.append('1')\n",
        "    elif i <= -0.05 :\n",
        "        sentiment.append('-1')\n",
        "    else:\n",
        "        sentiment.append('0')\n",
        "data[\"Sentiment\"] = sentiment\n",
        "data.head()"
      ],
      "metadata": {
        "colab": {
          "base_uri": "https://localhost:8080/",
          "height": 528
        },
        "id": "8EK1BlHMKHv7",
        "outputId": "8b4198ed-094a-4f95-d7ef-1423617a1c37"
      },
      "execution_count": 218,
      "outputs": [
        {
          "output_type": "execute_result",
          "data": {
            "text/plain": [
              "   Unnamed: 0                                            content  \\\n",
              "0           0  Sangat membantu untuk aplikasi dan fitur maps ...   \n",
              "1           1  ini aplikasi sedang menyingkirkan mitra lamany...   \n",
              "2           2  Sangat membantu tp tolong dong knp klo cs yg c...   \n",
              "3           3  Saat anter penumpang, sdh d ksi jalur/jaln yg ...   \n",
              "4           4  Aplikasi yg buat driver timpang ada yg udah 20...   \n",
              "\n",
              "                                              step01  \\\n",
              "0  sangat membantu untuk aplikasi dan fitur maps ...   \n",
              "1  ini aplikasi sedang menyingkirkan mitra lamany...   \n",
              "2  sangat membantu tp tolong dong knp klo cs yg c...   \n",
              "3  saat anter penumpang sdh ksi jalur jaln yg tdk...   \n",
              "4  aplikasi yg buat driver timpang ada yg udah nu...   \n",
              "\n",
              "                                              tokens  \\\n",
              "0  ['sangat', 'membantu', 'untuk', 'aplikasi', 'd...   \n",
              "1  ['ini', 'aplikasi', 'sedang', 'menyingkirkan',...   \n",
              "2  ['sangat', 'membantu', 'tp', 'tolong', 'dong',...   \n",
              "3  ['saat', 'anter', 'penumpang', 'sdh', 'ksi', '...   \n",
              "4  ['aplikasi', 'yg', 'buat', 'driver', 'timpang'...   \n",
              "\n",
              "                                    tokens_perbaikan  \\\n",
              "0  ['sangat', 'membantu', 'untuk', 'aplikasi', 'd...   \n",
              "1  ['ini', 'aplikasi', 'sedang', 'menyingkirkan',...   \n",
              "2  ['sangat', 'membantu', 'tapi', 'tolong', 'dong...   \n",
              "3  ['saat', 'anter', 'penumpang', 'sudah', 'ksi',...   \n",
              "4  ['aplikasi', 'yang', 'buat', 'driver', 'timpan...   \n",
              "\n",
              "                                        Stop_removal  \\\n",
              "0  ['membantu', 'aplikasi', 'fitur', 'maps', 'nya...   \n",
              "1  ['aplikasi', 'menyingkirkan', 'mitra', 'halus'...   \n",
              "2  ['membantu', 'tolong', 'cs', 'cancel', 'perfom...   \n",
              "3  ['anter', 'penumpang', 'ksi', 'jalur', 'jaln',...   \n",
              "4  ['aplikasi', 'driver', 'timpang', 'number', 'n...   \n",
              "\n",
              "                                              step02  \\\n",
              "0  membantu aplikasi fitur maps nya semoga kedepa...   \n",
              "1  aplikasi menyingkirkan mitra halus orderan har...   \n",
              "2  membantu tolong cs cancel perfoma turun tolong...   \n",
              "3  anter penumpang ksi jalur jaln macetnya biru m...   \n",
              "4  aplikasi driver timpang number number orderan ...   \n",
              "\n",
              "                                       ProcessedText      1     -1      0  \\\n",
              "0           bantu aplikasi fitur maps nya moga depan  0.000  0.000  1.000   \n",
              "1  aplikasi singkir mitra halus order hari mitra ...  0.000  0.000  1.000   \n",
              "2  bantu tolong cs cancel perfoma turun tolong be...  0.000  0.182  0.818   \n",
              "3  anter tumpang ksi jalur jaln macet biru maps c...  0.000  0.000  1.000   \n",
              "4  aplikasi driver timpang number number order sa...  0.245  0.000  0.755   \n",
              "\n",
              "   Compound Sentiment  \n",
              "0    0.0000         0  \n",
              "1    0.0000         0  \n",
              "2   -0.2500        -1  \n",
              "3    0.0000         0  \n",
              "4    0.1531         1  "
            ],
            "text/html": [
              "\n",
              "  <div id=\"df-425ff0bb-02b5-436e-ac0e-ac7d198028b9\">\n",
              "    <div class=\"colab-df-container\">\n",
              "      <div>\n",
              "<style scoped>\n",
              "    .dataframe tbody tr th:only-of-type {\n",
              "        vertical-align: middle;\n",
              "    }\n",
              "\n",
              "    .dataframe tbody tr th {\n",
              "        vertical-align: top;\n",
              "    }\n",
              "\n",
              "    .dataframe thead th {\n",
              "        text-align: right;\n",
              "    }\n",
              "</style>\n",
              "<table border=\"1\" class=\"dataframe\">\n",
              "  <thead>\n",
              "    <tr style=\"text-align: right;\">\n",
              "      <th></th>\n",
              "      <th>Unnamed: 0</th>\n",
              "      <th>content</th>\n",
              "      <th>step01</th>\n",
              "      <th>tokens</th>\n",
              "      <th>tokens_perbaikan</th>\n",
              "      <th>Stop_removal</th>\n",
              "      <th>step02</th>\n",
              "      <th>ProcessedText</th>\n",
              "      <th>1</th>\n",
              "      <th>-1</th>\n",
              "      <th>0</th>\n",
              "      <th>Compound</th>\n",
              "      <th>Sentiment</th>\n",
              "    </tr>\n",
              "  </thead>\n",
              "  <tbody>\n",
              "    <tr>\n",
              "      <th>0</th>\n",
              "      <td>0</td>\n",
              "      <td>Sangat membantu untuk aplikasi dan fitur maps ...</td>\n",
              "      <td>sangat membantu untuk aplikasi dan fitur maps ...</td>\n",
              "      <td>['sangat', 'membantu', 'untuk', 'aplikasi', 'd...</td>\n",
              "      <td>['sangat', 'membantu', 'untuk', 'aplikasi', 'd...</td>\n",
              "      <td>['membantu', 'aplikasi', 'fitur', 'maps', 'nya...</td>\n",
              "      <td>membantu aplikasi fitur maps nya semoga kedepa...</td>\n",
              "      <td>bantu aplikasi fitur maps nya moga depan</td>\n",
              "      <td>0.000</td>\n",
              "      <td>0.000</td>\n",
              "      <td>1.000</td>\n",
              "      <td>0.0000</td>\n",
              "      <td>0</td>\n",
              "    </tr>\n",
              "    <tr>\n",
              "      <th>1</th>\n",
              "      <td>1</td>\n",
              "      <td>ini aplikasi sedang menyingkirkan mitra lamany...</td>\n",
              "      <td>ini aplikasi sedang menyingkirkan mitra lamany...</td>\n",
              "      <td>['ini', 'aplikasi', 'sedang', 'menyingkirkan',...</td>\n",
              "      <td>['ini', 'aplikasi', 'sedang', 'menyingkirkan',...</td>\n",
              "      <td>['aplikasi', 'menyingkirkan', 'mitra', 'halus'...</td>\n",
              "      <td>aplikasi menyingkirkan mitra halus orderan har...</td>\n",
              "      <td>aplikasi singkir mitra halus order hari mitra ...</td>\n",
              "      <td>0.000</td>\n",
              "      <td>0.000</td>\n",
              "      <td>1.000</td>\n",
              "      <td>0.0000</td>\n",
              "      <td>0</td>\n",
              "    </tr>\n",
              "    <tr>\n",
              "      <th>2</th>\n",
              "      <td>2</td>\n",
              "      <td>Sangat membantu tp tolong dong knp klo cs yg c...</td>\n",
              "      <td>sangat membantu tp tolong dong knp klo cs yg c...</td>\n",
              "      <td>['sangat', 'membantu', 'tp', 'tolong', 'dong',...</td>\n",
              "      <td>['sangat', 'membantu', 'tapi', 'tolong', 'dong...</td>\n",
              "      <td>['membantu', 'tolong', 'cs', 'cancel', 'perfom...</td>\n",
              "      <td>membantu tolong cs cancel perfoma turun tolong...</td>\n",
              "      <td>bantu tolong cs cancel perfoma turun tolong be...</td>\n",
              "      <td>0.000</td>\n",
              "      <td>0.182</td>\n",
              "      <td>0.818</td>\n",
              "      <td>-0.2500</td>\n",
              "      <td>-1</td>\n",
              "    </tr>\n",
              "    <tr>\n",
              "      <th>3</th>\n",
              "      <td>3</td>\n",
              "      <td>Saat anter penumpang, sdh d ksi jalur/jaln yg ...</td>\n",
              "      <td>saat anter penumpang sdh ksi jalur jaln yg tdk...</td>\n",
              "      <td>['saat', 'anter', 'penumpang', 'sdh', 'ksi', '...</td>\n",
              "      <td>['saat', 'anter', 'penumpang', 'sudah', 'ksi',...</td>\n",
              "      <td>['anter', 'penumpang', 'ksi', 'jalur', 'jaln',...</td>\n",
              "      <td>anter penumpang ksi jalur jaln macetnya biru m...</td>\n",
              "      <td>anter tumpang ksi jalur jaln macet biru maps c...</td>\n",
              "      <td>0.000</td>\n",
              "      <td>0.000</td>\n",
              "      <td>1.000</td>\n",
              "      <td>0.0000</td>\n",
              "      <td>0</td>\n",
              "    </tr>\n",
              "    <tr>\n",
              "      <th>4</th>\n",
              "      <td>4</td>\n",
              "      <td>Aplikasi yg buat driver timpang ada yg udah 20...</td>\n",
              "      <td>aplikasi yg buat driver timpang ada yg udah nu...</td>\n",
              "      <td>['aplikasi', 'yg', 'buat', 'driver', 'timpang'...</td>\n",
              "      <td>['aplikasi', 'yang', 'buat', 'driver', 'timpan...</td>\n",
              "      <td>['aplikasi', 'driver', 'timpang', 'number', 'n...</td>\n",
              "      <td>aplikasi driver timpang number number orderan ...</td>\n",
              "      <td>aplikasi driver timpang number number order sa...</td>\n",
              "      <td>0.245</td>\n",
              "      <td>0.000</td>\n",
              "      <td>0.755</td>\n",
              "      <td>0.1531</td>\n",
              "      <td>1</td>\n",
              "    </tr>\n",
              "  </tbody>\n",
              "</table>\n",
              "</div>\n",
              "      <button class=\"colab-df-convert\" onclick=\"convertToInteractive('df-425ff0bb-02b5-436e-ac0e-ac7d198028b9')\"\n",
              "              title=\"Convert this dataframe to an interactive table.\"\n",
              "              style=\"display:none;\">\n",
              "        \n",
              "  <svg xmlns=\"http://www.w3.org/2000/svg\" height=\"24px\"viewBox=\"0 0 24 24\"\n",
              "       width=\"24px\">\n",
              "    <path d=\"M0 0h24v24H0V0z\" fill=\"none\"/>\n",
              "    <path d=\"M18.56 5.44l.94 2.06.94-2.06 2.06-.94-2.06-.94-.94-2.06-.94 2.06-2.06.94zm-11 1L8.5 8.5l.94-2.06 2.06-.94-2.06-.94L8.5 2.5l-.94 2.06-2.06.94zm10 10l.94 2.06.94-2.06 2.06-.94-2.06-.94-.94-2.06-.94 2.06-2.06.94z\"/><path d=\"M17.41 7.96l-1.37-1.37c-.4-.4-.92-.59-1.43-.59-.52 0-1.04.2-1.43.59L10.3 9.45l-7.72 7.72c-.78.78-.78 2.05 0 2.83L4 21.41c.39.39.9.59 1.41.59.51 0 1.02-.2 1.41-.59l7.78-7.78 2.81-2.81c.8-.78.8-2.07 0-2.86zM5.41 20L4 18.59l7.72-7.72 1.47 1.35L5.41 20z\"/>\n",
              "  </svg>\n",
              "      </button>\n",
              "      \n",
              "  <style>\n",
              "    .colab-df-container {\n",
              "      display:flex;\n",
              "      flex-wrap:wrap;\n",
              "      gap: 12px;\n",
              "    }\n",
              "\n",
              "    .colab-df-convert {\n",
              "      background-color: #E8F0FE;\n",
              "      border: none;\n",
              "      border-radius: 50%;\n",
              "      cursor: pointer;\n",
              "      display: none;\n",
              "      fill: #1967D2;\n",
              "      height: 32px;\n",
              "      padding: 0 0 0 0;\n",
              "      width: 32px;\n",
              "    }\n",
              "\n",
              "    .colab-df-convert:hover {\n",
              "      background-color: #E2EBFA;\n",
              "      box-shadow: 0px 1px 2px rgba(60, 64, 67, 0.3), 0px 1px 3px 1px rgba(60, 64, 67, 0.15);\n",
              "      fill: #174EA6;\n",
              "    }\n",
              "\n",
              "    [theme=dark] .colab-df-convert {\n",
              "      background-color: #3B4455;\n",
              "      fill: #D2E3FC;\n",
              "    }\n",
              "\n",
              "    [theme=dark] .colab-df-convert:hover {\n",
              "      background-color: #434B5C;\n",
              "      box-shadow: 0px 1px 3px 1px rgba(0, 0, 0, 0.15);\n",
              "      filter: drop-shadow(0px 1px 2px rgba(0, 0, 0, 0.3));\n",
              "      fill: #FFFFFF;\n",
              "    }\n",
              "  </style>\n",
              "\n",
              "      <script>\n",
              "        const buttonEl =\n",
              "          document.querySelector('#df-425ff0bb-02b5-436e-ac0e-ac7d198028b9 button.colab-df-convert');\n",
              "        buttonEl.style.display =\n",
              "          google.colab.kernel.accessAllowed ? 'block' : 'none';\n",
              "\n",
              "        async function convertToInteractive(key) {\n",
              "          const element = document.querySelector('#df-425ff0bb-02b5-436e-ac0e-ac7d198028b9');\n",
              "          const dataTable =\n",
              "            await google.colab.kernel.invokeFunction('convertToInteractive',\n",
              "                                                     [key], {});\n",
              "          if (!dataTable) return;\n",
              "\n",
              "          const docLinkHtml = 'Like what you see? Visit the ' +\n",
              "            '<a target=\"_blank\" href=https://colab.research.google.com/notebooks/data_table.ipynb>data table notebook</a>'\n",
              "            + ' to learn more about interactive tables.';\n",
              "          element.innerHTML = '';\n",
              "          dataTable['output_type'] = 'display_data';\n",
              "          await google.colab.output.renderOutput(dataTable, element);\n",
              "          const docLink = document.createElement('div');\n",
              "          docLink.innerHTML = docLinkHtml;\n",
              "          element.appendChild(docLink);\n",
              "        }\n",
              "      </script>\n",
              "    </div>\n",
              "  </div>\n",
              "  "
            ]
          },
          "metadata": {},
          "execution_count": 218
        }
      ]
    },
    {
      "cell_type": "code",
      "source": [
        "print(data[\"Sentiment\"].value_counts())"
      ],
      "metadata": {
        "colab": {
          "base_uri": "https://localhost:8080/"
        },
        "id": "KPAsZDSUKL8y",
        "outputId": "784e2f6e-22d9-4654-f58a-a3c63ef1de60"
      },
      "execution_count": 219,
      "outputs": [
        {
          "output_type": "stream",
          "name": "stdout",
          "text": [
            "0     567\n",
            "1     305\n",
            "-1    128\n",
            "Name: Sentiment, dtype: int64\n"
          ]
        }
      ]
    },
    {
      "cell_type": "code",
      "source": [
        "data.to_csv('/content/drive/My Drive/Colab Notebooks/Labeling_data.csv',sep=\";\")"
      ],
      "metadata": {
        "id": "RM8DLuEsKTDE"
      },
      "execution_count": 220,
      "outputs": []
    },
    {
      "cell_type": "code",
      "source": [
        "import pandas as pd\n",
        "import numpy as np"
      ],
      "metadata": {
        "id": "yWUV6uJFccaa"
      },
      "execution_count": 221,
      "outputs": []
    },
    {
      "cell_type": "code",
      "source": [
        "dataset = pd.read_csv('/content/drive/My Drive/Colab Notebooks/Labeling_data.csv',sep=\";\")"
      ],
      "metadata": {
        "id": "LriwnIfucg6-"
      },
      "execution_count": 222,
      "outputs": []
    },
    {
      "cell_type": "code",
      "source": [
        "dataset_feature = dataset['ProcessedText'].astype(str)"
      ],
      "metadata": {
        "id": "mMAIDtjacts3"
      },
      "execution_count": 223,
      "outputs": []
    },
    {
      "cell_type": "code",
      "source": [
        "dataset_feature.head()"
      ],
      "metadata": {
        "colab": {
          "base_uri": "https://localhost:8080/"
        },
        "id": "ZIgXF-2icxj5",
        "outputId": "8943bcfd-3514-4015-bfc2-c0a2edbf3e6e"
      },
      "execution_count": 224,
      "outputs": [
        {
          "output_type": "execute_result",
          "data": {
            "text/plain": [
              "0             bantu aplikasi fitur maps nya moga depan\n",
              "1    aplikasi singkir mitra halus order hari mitra ...\n",
              "2    bantu tolong cs cancel perfoma turun tolong be...\n",
              "3    anter tumpang ksi jalur jaln macet biru maps c...\n",
              "4    aplikasi driver timpang number number order sa...\n",
              "Name: ProcessedText, dtype: object"
            ]
          },
          "metadata": {},
          "execution_count": 224
        }
      ]
    },
    {
      "cell_type": "code",
      "source": [
        "dataset_label = dataset['Sentiment']"
      ],
      "metadata": {
        "id": "UWkzeMCwc5Eu"
      },
      "execution_count": 225,
      "outputs": []
    },
    {
      "cell_type": "code",
      "source": [
        "dataset_label.head()"
      ],
      "metadata": {
        "colab": {
          "base_uri": "https://localhost:8080/"
        },
        "id": "Y_LJ3KhmdBOG",
        "outputId": "8720ec69-56ef-4b4d-c20f-5c81c8d31458"
      },
      "execution_count": 226,
      "outputs": [
        {
          "output_type": "execute_result",
          "data": {
            "text/plain": [
              "0    0\n",
              "1    0\n",
              "2   -1\n",
              "3    0\n",
              "4    1\n",
              "Name: Sentiment, dtype: int64"
            ]
          },
          "metadata": {},
          "execution_count": 226
        }
      ]
    },
    {
      "cell_type": "code",
      "source": [
        "import matplotlib.pyplot as plt\n",
        "import seaborn as sns\n",
        "%matplotlib inline"
      ],
      "metadata": {
        "id": "Hva_8EG2dHhO"
      },
      "execution_count": 227,
      "outputs": []
    },
    {
      "cell_type": "code",
      "source": [
        "# Visualizing the target variable\n",
        "plt.figure(figsize=(12,8))\n",
        "sns.distplot(dataset_label, label=f'target, skew: {dataset_label.skew():.2f}')\n",
        "plt.legend(loc='best')\n",
        "plt.show()"
      ],
      "metadata": {
        "colab": {
          "base_uri": "https://localhost:8080/",
          "height": 552
        },
        "id": "aBYa11iFdMf9",
        "outputId": "b7a3607e-a876-4bdf-e673-79fb733c4d50"
      },
      "execution_count": 228,
      "outputs": [
        {
          "output_type": "stream",
          "name": "stderr",
          "text": [
            "/usr/local/lib/python3.8/dist-packages/seaborn/distributions.py:2619: FutureWarning: `distplot` is a deprecated function and will be removed in a future version. Please adapt your code to use either `displot` (a figure-level function with similar flexibility) or `histplot` (an axes-level function for histograms).\n",
            "  warnings.warn(msg, FutureWarning)\n"
          ]
        },
        {
          "output_type": "display_data",
          "data": {
            "text/plain": [
              "<Figure size 864x576 with 1 Axes>"
            ],
            "image/png": "[encoded data removed]"
          },
          "metadata": {
            "needs_background": "light"
          }
        }
      ]
    },
    {
      "cell_type": "code",
      "source": [
        "dataset_label.value_counts()"
      ],
      "metadata": {
        "colab": {
          "base_uri": "https://localhost:8080/"
        },
        "id": "XJg1Nw81fMaN",
        "outputId": "85485550-6458-45b4-8335-b2d64ac46f66"
      },
      "execution_count": 229,
      "outputs": [
        {
          "output_type": "execute_result",
          "data": {
            "text/plain": [
              " 0    567\n",
              " 1    305\n",
              "-1    128\n",
              "Name: Sentiment, dtype: int64"
            ]
          },
          "metadata": {},
          "execution_count": 229
        }
      ]
    },
    {
      "cell_type": "code",
      "source": [
        "from sklearn.model_selection import GridSearchCV\n",
        "from sklearn.metrics import accuracy_score\n",
        "from sklearn.metrics import recall_score\n",
        "from sklearn.metrics import f1_score\n",
        "from sklearn.metrics import precision_score\n",
        "from sklearn.model_selection import train_test_split"
      ],
      "metadata": {
        "id": "EVXvLf4EfSNI"
      },
      "execution_count": 230,
      "outputs": []
    },
    {
      "cell_type": "code",
      "source": [
        "train_x, test_x, train_label, test_label = train_test_split(dataset_feature, dataset_label, test_size = 0.2, random_state=2023)"
      ],
      "metadata": {
        "id": "zv2MKIOXfayq"
      },
      "execution_count": 231,
      "outputs": []
    },
    {
      "cell_type": "code",
      "source": [
        "from sklearn.feature_extraction.text import TfidfVectorizer\n",
        "Tfidf_Vectorizer = TfidfVectorizer()"
      ],
      "metadata": {
        "id": "SNm6G2P3fgUe"
      },
      "execution_count": 232,
      "outputs": []
    },
    {
      "cell_type": "code",
      "source": [
        "from sklearn.naive_bayes import MultinomialNB"
      ],
      "metadata": {
        "id": "i1-disfpflZf"
      },
      "execution_count": 233,
      "outputs": []
    },
    {
      "cell_type": "code",
      "source": [
        "from sklearn.pipeline import Pipeline\n",
        "classifier_nb = Pipeline([\n",
        "    #('vect', CountVectorizer()),\n",
        "    ('tfidf', TfidfVectorizer()),\n",
        "    ('model', MultinomialNB()),\n",
        "])"
      ],
      "metadata": {
        "id": "6YHEBAaNfowK"
      },
      "execution_count": 234,
      "outputs": []
    },
    {
      "cell_type": "code",
      "source": [
        "parameters_nb = { \n",
        "               'tfidf__ngram_range': [(1, 1), (1, 2), (1, 3), (1, 4)],\n",
        "               #'tfidf__use_idf': (True, False),\n",
        "               'model__alpha': (0, 1, 1e-2, 1e-3)\n",
        "}"
      ],
      "metadata": {
        "id": "ZMV8WKAjfsde"
      },
      "execution_count": 235,
      "outputs": []
    },
    {
      "cell_type": "code",
      "source": [
        "classifier_nb = GridSearchCV(classifier_nb, parameters_nb, cv =3, n_jobs=-1)"
      ],
      "metadata": {
        "id": "lRALTPNjfy6-"
      },
      "execution_count": 236,
      "outputs": []
    },
    {
      "cell_type": "code",
      "source": [
        "classifier_nb.fit(train_x, train_label.ravel())"
      ],
      "metadata": {
        "colab": {
          "base_uri": "https://localhost:8080/",
          "height": 152
        },
        "id": "-U_s0afSf2o5",
        "outputId": "a2c08c15-db3a-490e-9650-b990d426a128"
      },
      "execution_count": 237,
      "outputs": [
        {
          "output_type": "execute_result",
          "data": {
            "text/plain": [
              "GridSearchCV(cv=3,\n",
              "             estimator=Pipeline(steps=[('tfidf', TfidfVectorizer()),\n",
              "                                       ('model', MultinomialNB())]),\n",
              "             n_jobs=-1,\n",
              "             param_grid={'model__alpha': (0, 1, 0.01, 0.001),\n",
              "                         'tfidf__ngram_range': [(1, 1), (1, 2), (1, 3),\n",
              "                                                (1, 4)]})"
            ],
            "text/html": [
              "<style>#sk-container-id-11 {color: black;background-color: white;}#sk-container-id-11 pre{padding: 0;}#sk-container-id-11 div.sk-toggleable {background-color: white;}#sk-container-id-11 label.sk-toggleable__label {cursor: pointer;display: block;width: 100%;margin-bottom: 0;padding: 0.3em;box-sizing: border-box;text-align: center;}#sk-container-id-11 label.sk-toggleable__label-arrow:before {content: \"▸\";float: left;margin-right: 0.25em;color: #696969;}#sk-container-id-11 label.sk-toggleable__label-arrow:hover:before {color: black;}#sk-container-id-11 div.sk-estimator:hover label.sk-toggleable__label-arrow:before {color: black;}#sk-container-id-11 div.sk-toggleable__content {max-height: 0;max-width: 0;overflow: hidden;text-align: left;background-color: #f0f8ff;}#sk-container-id-11 div.sk-toggleable__content pre {margin: 0.2em;color: black;border-radius: 0.25em;background-color: #f0f8ff;}#sk-container-id-11 input.sk-toggleable__control:checked~div.sk-toggleable__content {max-height: 200px;max-width: 100%;overflow: auto;}#sk-container-id-11 input.sk-toggleable__control:checked~label.sk-toggleable__label-arrow:before {content: \"▾\";}#sk-container-id-11 div.sk-estimator input.sk-toggleable__control:checked~label.sk-toggleable__label {background-color: #d4ebff;}#sk-container-id-11 div.sk-label input.sk-toggleable__control:checked~label.sk-toggleable__label {background-color: #d4ebff;}#sk-container-id-11 input.sk-hidden--visually {border: 0;clip: rect(1px 1px 1px 1px);clip: rect(1px, 1px, 1px, 1px);height: 1px;margin: -1px;overflow: hidden;padding: 0;position: absolute;width: 1px;}#sk-container-id-11 div.sk-estimator {font-family: monospace;background-color: #f0f8ff;border: 1px dotted black;border-radius: 0.25em;box-sizing: border-box;margin-bottom: 0.5em;}#sk-container-id-11 div.sk-estimator:hover {background-color: #d4ebff;}#sk-container-id-11 div.sk-parallel-item::after {content: \"\";width: 100%;border-bottom: 1px solid gray;flex-grow: 1;}#sk-container-id-11 div.sk-label:hover label.sk-toggleable__label {background-color: #d4ebff;}#sk-container-id-11 div.sk-serial::before {content: \"\";position: absolute;border-left: 1px solid gray;box-sizing: border-box;top: 0;bottom: 0;left: 50%;z-index: 0;}#sk-container-id-11 div.sk-serial {display: flex;flex-direction: column;align-items: center;background-color: white;padding-right: 0.2em;padding-left: 0.2em;position: relative;}#sk-container-id-11 div.sk-item {position: relative;z-index: 1;}#sk-container-id-11 div.sk-parallel {display: flex;align-items: stretch;justify-content: center;background-color: white;position: relative;}#sk-container-id-11 div.sk-item::before, #sk-container-id-11 div.sk-parallel-item::before {content: \"\";position: absolute;border-left: 1px solid gray;box-sizing: border-box;top: 0;bottom: 0;left: 50%;z-index: -1;}#sk-container-id-11 div.sk-parallel-item {display: flex;flex-direction: column;z-index: 1;position: relative;background-color: white;}#sk-container-id-11 div.sk-parallel-item:first-child::after {align-self: flex-end;width: 50%;}#sk-container-id-11 div.sk-parallel-item:last-child::after {align-self: flex-start;width: 50%;}#sk-container-id-11 div.sk-parallel-item:only-child::after {width: 0;}#sk-container-id-11 div.sk-dashed-wrapped {border: 1px dashed gray;margin: 0 0.4em 0.5em 0.4em;box-sizing: border-box;padding-bottom: 0.4em;background-color: white;}#sk-container-id-11 div.sk-label label {font-family: monospace;font-weight: bold;display: inline-block;line-height: 1.2em;}#sk-container-id-11 div.sk-label-container {text-align: center;}#sk-container-id-11 div.sk-container {/* jupyter's `normalize.less` sets `[hidden] { display: none; }` but bootstrap.min.css set `[hidden] { display: none !important; }` so we also need the `!important` here to be able to override the default hidden behavior on the sphinx rendered scikit-learn.org. See: https://github.com/scikit-learn/scikit-learn/issues/21755 */display: inline-block !important;position: relative;}#sk-container-id-11 div.sk-text-repr-fallback {display: none;}</style><div id=\"sk-container-id-11\" class=\"sk-top-container\"><div class=\"sk-text-repr-fallback\"><pre>GridSearchCV(cv=3,\n",
              "             estimator=Pipeline(steps=[(&#x27;tfidf&#x27;, TfidfVectorizer()),\n",
              "                                       (&#x27;model&#x27;, MultinomialNB())]),\n",
              "             n_jobs=-1,\n",
              "             param_grid={&#x27;model__alpha&#x27;: (0, 1, 0.01, 0.001),\n",
              "                         &#x27;tfidf__ngram_range&#x27;: [(1, 1), (1, 2), (1, 3),\n",
              "                                                (1, 4)]})</pre><b>In a Jupyter environment, please rerun this cell to show the HTML representation or trust the notebook. <br />On GitHub, the HTML representation is unable to render, please try loading this page with nbviewer.org.</b></div><div class=\"sk-container\" hidden><div class=\"sk-item sk-dashed-wrapped\"><div class=\"sk-label-container\"><div class=\"sk-label sk-toggleable\"><input class=\"sk-toggleable__control sk-hidden--visually\" id=\"sk-estimator-id-37\" type=\"checkbox\" ><label for=\"sk-estimator-id-37\" class=\"sk-toggleable__label sk-toggleable__label-arrow\">GridSearchCV</label><div class=\"sk-toggleable__content\"><pre>GridSearchCV(cv=3,\n",
              "             estimator=Pipeline(steps=[(&#x27;tfidf&#x27;, TfidfVectorizer()),\n",
              "                                       (&#x27;model&#x27;, MultinomialNB())]),\n",
              "             n_jobs=-1,\n",
              "             param_grid={&#x27;model__alpha&#x27;: (0, 1, 0.01, 0.001),\n",
              "                         &#x27;tfidf__ngram_range&#x27;: [(1, 1), (1, 2), (1, 3),\n",
              "                                                (1, 4)]})</pre></div></div></div><div class=\"sk-parallel\"><div class=\"sk-parallel-item\"><div class=\"sk-item\"><div class=\"sk-label-container\"><div class=\"sk-label sk-toggleable\"><input class=\"sk-toggleable__control sk-hidden--visually\" id=\"sk-estimator-id-38\" type=\"checkbox\" ><label for=\"sk-estimator-id-38\" class=\"sk-toggleable__label sk-toggleable__label-arrow\">estimator: Pipeline</label><div class=\"sk-toggleable__content\"><pre>Pipeline(steps=[(&#x27;tfidf&#x27;, TfidfVectorizer()), (&#x27;model&#x27;, MultinomialNB())])</pre></div></div></div><div class=\"sk-serial\"><div class=\"sk-item\"><div class=\"sk-serial\"><div class=\"sk-item\"><div class=\"sk-estimator sk-toggleable\"><input class=\"sk-toggleable__control sk-hidden--visually\" id=\"sk-estimator-id-39\" type=\"checkbox\" ><label for=\"sk-estimator-id-39\" class=\"sk-toggleable__label sk-toggleable__label-arrow\">TfidfVectorizer</label><div class=\"sk-toggleable__content\"><pre>TfidfVectorizer()</pre></div></div></div><div class=\"sk-item\"><div class=\"sk-estimator sk-toggleable\"><input class=\"sk-toggleable__control sk-hidden--visually\" id=\"sk-estimator-id-40\" type=\"checkbox\" ><label for=\"sk-estimator-id-40\" class=\"sk-toggleable__label sk-toggleable__label-arrow\">MultinomialNB</label><div class=\"sk-toggleable__content\"><pre>MultinomialNB()</pre></div></div></div></div></div></div></div></div></div></div></div></div>"
            ]
          },
          "metadata": {},
          "execution_count": 237
        }
      ]
    },
    {
      "cell_type": "code",
      "source": [
        "y_pred_nb_train = classifier_nb.predict(train_x)\n",
        "accuracy_nb_train = accuracy_score(train_label, y_pred_nb_train)\n",
        "print(\"Accuracy Training set: \", accuracy_nb_train)\n",
        "\n",
        "y_pred_nb_test = classifier_nb.predict(test_x)\n",
        "accuracy_nb_test = accuracy_score(test_label, y_pred_nb_test)\n",
        "print(\"Accuracy Test set: \", accuracy_nb_test)"
      ],
      "metadata": {
        "colab": {
          "base_uri": "https://localhost:8080/"
        },
        "id": "wu_J97GzgBu7",
        "outputId": "6af370b1-2ca9-4541-f78e-8b39e26d764a"
      },
      "execution_count": 238,
      "outputs": [
        {
          "output_type": "stream",
          "name": "stdout",
          "text": [
            "Accuracy Training set:  1.0\n",
            "Accuracy Test set:  0.675\n"
          ]
        }
      ]
    },
    {
      "cell_type": "code",
      "source": [
        "recall_nb_train = recall_score(train_label, y_pred_nb_train, average='weighted')\n",
        "print(\"Recall Training set: \", recall_nb_train)\n",
        "\n",
        "recall_nb_test = recall_score(test_label, y_pred_nb_test, average='weighted')\n",
        "print(\"Recall Test set: \", recall_nb_test)"
      ],
      "metadata": {
        "colab": {
          "base_uri": "https://localhost:8080/"
        },
        "id": "CbwpjY-Zgkcv",
        "outputId": "9ada942e-e2c7-4075-c28b-c0b0e2d46162"
      },
      "execution_count": 239,
      "outputs": [
        {
          "output_type": "stream",
          "name": "stdout",
          "text": [
            "Recall Training set:  1.0\n",
            "Recall Test set:  0.675\n"
          ]
        }
      ]
    },
    {
      "cell_type": "code",
      "source": [
        "precision_nb_train = precision_score(train_label, y_pred_nb_train, average='weighted')\n",
        "print(\"Precision Training set: \", precision_nb_train)\n",
        "\n",
        "precision_nb_test = precision_score(test_label, y_pred_nb_test, average='weighted')\n",
        "print(\"Precision Test set: \", precision_nb_test)"
      ],
      "metadata": {
        "colab": {
          "base_uri": "https://localhost:8080/"
        },
        "id": "SZKR9LcogrMy",
        "outputId": "ff813012-ad84-40d8-caaa-1d298693c329"
      },
      "execution_count": 240,
      "outputs": [
        {
          "output_type": "stream",
          "name": "stdout",
          "text": [
            "Precision Training set:  1.0\n",
            "Precision Test set:  0.676007866273353\n"
          ]
        }
      ]
    },
    {
      "cell_type": "code",
      "source": [
        "f1_nb_train = f1_score(train_label, y_pred_nb_train, average='weighted')\n",
        "print(\"F1 Training set: \", f1_nb_train)\n",
        "\n",
        "f1_nb_test = f1_score(test_label, y_pred_nb_test, average='weighted')\n",
        "print(\"F1 Test set: \", f1_nb_test)"
      ],
      "metadata": {
        "colab": {
          "base_uri": "https://localhost:8080/"
        },
        "id": "BLNzlIddgvMo",
        "outputId": "9c4730ca-0a29-4463-db35-2ae34bdbba1e"
      },
      "execution_count": 241,
      "outputs": [
        {
          "output_type": "stream",
          "name": "stdout",
          "text": [
            "F1 Training set:  1.0\n",
            "F1 Test set:  0.6670802139037433\n"
          ]
        }
      ]
    },
    {
      "cell_type": "code",
      "source": [
        "from sklearn.metrics import confusion_matrix\n",
        "sns.heatmap(confusion_matrix(test_label, y_pred_nb_test), annot=True, cmap = 'viridis', fmt='.0f')\n",
        "plt.xlabel(\"Predicted values\", fontdict = {'size':14}, labelpad = 10)\n",
        "plt.ylabel(\"Actual values\"   , fontdict = {'size':14}, labelpad = 10)\n",
        "plt.title (\"Confusion Matrix\", fontdict = {'size':18}, pad = 20)\n",
        "plt.show()"
      ],
      "metadata": {
        "colab": {
          "base_uri": "https://localhost:8080/",
          "height": 323
        },
        "id": "bAEJkQQYg1Od",
        "outputId": "563837f1-4da5-4477-83ca-94d2716f3ac0"
      },
      "execution_count": 242,
      "outputs": [
        {
          "output_type": "display_data",
          "data": {
            "text/plain": [
              "<Figure size 432x288 with 2 Axes>"
            ],
            "image/png": "[encoded data removed]"
          },
          "metadata": {
            "needs_background": "light"
          }
        }
      ]
    },
    {
      "cell_type": "code",
      "source": [
        "classifier_nb.best_estimator_"
      ],
      "metadata": {
        "colab": {
          "base_uri": "https://localhost:8080/",
          "height": 126
        },
        "id": "1XEq2h1Hg-OW",
        "outputId": "879b24c8-48a3-40b2-f52c-54c417179319"
      },
      "execution_count": 243,
      "outputs": [
        {
          "output_type": "execute_result",
          "data": {
            "text/plain": [
              "Pipeline(steps=[('tfidf', TfidfVectorizer(ngram_range=(1, 3))),\n",
              "                ('model', MultinomialNB(alpha=0.01))])"
            ],
            "text/html": [
              "<style>#sk-container-id-12 {color: black;background-color: white;}#sk-container-id-12 pre{padding: 0;}#sk-container-id-12 div.sk-toggleable {background-color: white;}#sk-container-id-12 label.sk-toggleable__label {cursor: pointer;display: block;width: 100%;margin-bottom: 0;padding: 0.3em;box-sizing: border-box;text-align: center;}#sk-container-id-12 label.sk-toggleable__label-arrow:before {content: \"▸\";float: left;margin-right: 0.25em;color: #696969;}#sk-container-id-12 label.sk-toggleable__label-arrow:hover:before {color: black;}#sk-container-id-12 div.sk-estimator:hover label.sk-toggleable__label-arrow:before {color: black;}#sk-container-id-12 div.sk-toggleable__content {max-height: 0;max-width: 0;overflow: hidden;text-align: left;background-color: #f0f8ff;}#sk-container-id-12 div.sk-toggleable__content pre {margin: 0.2em;color: black;border-radius: 0.25em;background-color: #f0f8ff;}#sk-container-id-12 input.sk-toggleable__control:checked~div.sk-toggleable__content {max-height: 200px;max-width: 100%;overflow: auto;}#sk-container-id-12 input.sk-toggleable__control:checked~label.sk-toggleable__label-arrow:before {content: \"▾\";}#sk-container-id-12 div.sk-estimator input.sk-toggleable__control:checked~label.sk-toggleable__label {background-color: #d4ebff;}#sk-container-id-12 div.sk-label input.sk-toggleable__control:checked~label.sk-toggleable__label {background-color: #d4ebff;}#sk-container-id-12 input.sk-hidden--visually {border: 0;clip: rect(1px 1px 1px 1px);clip: rect(1px, 1px, 1px, 1px);height: 1px;margin: -1px;overflow: hidden;padding: 0;position: absolute;width: 1px;}#sk-container-id-12 div.sk-estimator {font-family: monospace;background-color: #f0f8ff;border: 1px dotted black;border-radius: 0.25em;box-sizing: border-box;margin-bottom: 0.5em;}#sk-container-id-12 div.sk-estimator:hover {background-color: #d4ebff;}#sk-container-id-12 div.sk-parallel-item::after {content: \"\";width: 100%;border-bottom: 1px solid gray;flex-grow: 1;}#sk-container-id-12 div.sk-label:hover label.sk-toggleable__label {background-color: #d4ebff;}#sk-container-id-12 div.sk-serial::before {content: \"\";position: absolute;border-left: 1px solid gray;box-sizing: border-box;top: 0;bottom: 0;left: 50%;z-index: 0;}#sk-container-id-12 div.sk-serial {display: flex;flex-direction: column;align-items: center;background-color: white;padding-right: 0.2em;padding-left: 0.2em;position: relative;}#sk-container-id-12 div.sk-item {position: relative;z-index: 1;}#sk-container-id-12 div.sk-parallel {display: flex;align-items: stretch;justify-content: center;background-color: white;position: relative;}#sk-container-id-12 div.sk-item::before, #sk-container-id-12 div.sk-parallel-item::before {content: \"\";position: absolute;border-left: 1px solid gray;box-sizing: border-box;top: 0;bottom: 0;left: 50%;z-index: -1;}#sk-container-id-12 div.sk-parallel-item {display: flex;flex-direction: column;z-index: 1;position: relative;background-color: white;}#sk-container-id-12 div.sk-parallel-item:first-child::after {align-self: flex-end;width: 50%;}#sk-container-id-12 div.sk-parallel-item:last-child::after {align-self: flex-start;width: 50%;}#sk-container-id-12 div.sk-parallel-item:only-child::after {width: 0;}#sk-container-id-12 div.sk-dashed-wrapped {border: 1px dashed gray;margin: 0 0.4em 0.5em 0.4em;box-sizing: border-box;padding-bottom: 0.4em;background-color: white;}#sk-container-id-12 div.sk-label label {font-family: monospace;font-weight: bold;display: inline-block;line-height: 1.2em;}#sk-container-id-12 div.sk-label-container {text-align: center;}#sk-container-id-12 div.sk-container {/* jupyter's `normalize.less` sets `[hidden] { display: none; }` but bootstrap.min.css set `[hidden] { display: none !important; }` so we also need the `!important` here to be able to override the default hidden behavior on the sphinx rendered scikit-learn.org. See: https://github.com/scikit-learn/scikit-learn/issues/21755 */display: inline-block !important;position: relative;}#sk-container-id-12 div.sk-text-repr-fallback {display: none;}</style><div id=\"sk-container-id-12\" class=\"sk-top-container\"><div class=\"sk-text-repr-fallback\"><pre>Pipeline(steps=[(&#x27;tfidf&#x27;, TfidfVectorizer(ngram_range=(1, 3))),\n",
              "                (&#x27;model&#x27;, MultinomialNB(alpha=0.01))])</pre><b>In a Jupyter environment, please rerun this cell to show the HTML representation or trust the notebook. <br />On GitHub, the HTML representation is unable to render, please try loading this page with nbviewer.org.</b></div><div class=\"sk-container\" hidden><div class=\"sk-item sk-dashed-wrapped\"><div class=\"sk-label-container\"><div class=\"sk-label sk-toggleable\"><input class=\"sk-toggleable__control sk-hidden--visually\" id=\"sk-estimator-id-41\" type=\"checkbox\" ><label for=\"sk-estimator-id-41\" class=\"sk-toggleable__label sk-toggleable__label-arrow\">Pipeline</label><div class=\"sk-toggleable__content\"><pre>Pipeline(steps=[(&#x27;tfidf&#x27;, TfidfVectorizer(ngram_range=(1, 3))),\n",
              "                (&#x27;model&#x27;, MultinomialNB(alpha=0.01))])</pre></div></div></div><div class=\"sk-serial\"><div class=\"sk-item\"><div class=\"sk-estimator sk-toggleable\"><input class=\"sk-toggleable__control sk-hidden--visually\" id=\"sk-estimator-id-42\" type=\"checkbox\" ><label for=\"sk-estimator-id-42\" class=\"sk-toggleable__label sk-toggleable__label-arrow\">TfidfVectorizer</label><div class=\"sk-toggleable__content\"><pre>TfidfVectorizer(ngram_range=(1, 3))</pre></div></div></div><div class=\"sk-item\"><div class=\"sk-estimator sk-toggleable\"><input class=\"sk-toggleable__control sk-hidden--visually\" id=\"sk-estimator-id-43\" type=\"checkbox\" ><label for=\"sk-estimator-id-43\" class=\"sk-toggleable__label sk-toggleable__label-arrow\">MultinomialNB</label><div class=\"sk-toggleable__content\"><pre>MultinomialNB(alpha=0.01)</pre></div></div></div></div></div></div></div>"
            ]
          },
          "metadata": {},
          "execution_count": 243
        }
      ]
    },
    {
      "cell_type": "code",
      "source": [
        "for param_name in sorted(parameters_nb.keys()):\n",
        "    print(\"%s: %r\" % (param_name, classifier_nb.best_params_[param_name]))"
      ],
      "metadata": {
        "colab": {
          "base_uri": "https://localhost:8080/"
        },
        "id": "e9YKzblrhE4w",
        "outputId": "3688070b-e3b1-4d63-c08a-15720791fcc5"
      },
      "execution_count": 244,
      "outputs": [
        {
          "output_type": "stream",
          "name": "stdout",
          "text": [
            "model__alpha: 0.01\n",
            "tfidf__ngram_range: (1, 3)\n"
          ]
        }
      ]
    },
    {
      "cell_type": "code",
      "source": [
        "models = [        \n",
        "          ('Naive Bayes Multinomial', accuracy_nb_train, accuracy_nb_test)\n",
        "         ]"
      ],
      "metadata": {
        "id": "2WDz0fgfhKhC"
      },
      "execution_count": 245,
      "outputs": []
    },
    {
      "cell_type": "code",
      "source": [
        "predict = pd.DataFrame(data = models, columns=['Model', 'Training Accuracy', 'Test Accuracy'])\n",
        "predict"
      ],
      "metadata": {
        "colab": {
          "base_uri": "https://localhost:8080/",
          "height": 81
        },
        "id": "6IRpNVLMhP8i",
        "outputId": "60352eee-6414-4df1-fc01-63768f2d1af1"
      },
      "execution_count": 246,
      "outputs": [
        {
          "output_type": "execute_result",
          "data": {
            "text/plain": [
              "                     Model  Training Accuracy  Test Accuracy\n",
              "0  Naive Bayes Multinomial                1.0          0.675"
            ],
            "text/html": [
              "\n",
              "  <div id=\"df-50ca0e07-7309-4f88-b4ac-c1ea0afeabe8\">\n",
              "    <div class=\"colab-df-container\">\n",
              "      <div>\n",
              "<style scoped>\n",
              "    .dataframe tbody tr th:only-of-type {\n",
              "        vertical-align: middle;\n",
              "    }\n",
              "\n",
              "    .dataframe tbody tr th {\n",
              "        vertical-align: top;\n",
              "    }\n",
              "\n",
              "    .dataframe thead th {\n",
              "        text-align: right;\n",
              "    }\n",
              "</style>\n",
              "<table border=\"1\" class=\"dataframe\">\n",
              "  <thead>\n",
              "    <tr style=\"text-align: right;\">\n",
              "      <th></th>\n",
              "      <th>Model</th>\n",
              "      <th>Training Accuracy</th>\n",
              "      <th>Test Accuracy</th>\n",
              "    </tr>\n",
              "  </thead>\n",
              "  <tbody>\n",
              "    <tr>\n",
              "      <th>0</th>\n",
              "      <td>Naive Bayes Multinomial</td>\n",
              "      <td>1.0</td>\n",
              "      <td>0.675</td>\n",
              "    </tr>\n",
              "  </tbody>\n",
              "</table>\n",
              "</div>\n",
              "      <button class=\"colab-df-convert\" onclick=\"convertToInteractive('df-50ca0e07-7309-4f88-b4ac-c1ea0afeabe8')\"\n",
              "              title=\"Convert this dataframe to an interactive table.\"\n",
              "              style=\"display:none;\">\n",
              "        \n",
              "  <svg xmlns=\"http://www.w3.org/2000/svg\" height=\"24px\"viewBox=\"0 0 24 24\"\n",
              "       width=\"24px\">\n",
              "    <path d=\"M0 0h24v24H0V0z\" fill=\"none\"/>\n",
              "    <path d=\"M18.56 5.44l.94 2.06.94-2.06 2.06-.94-2.06-.94-.94-2.06-.94 2.06-2.06.94zm-11 1L8.5 8.5l.94-2.06 2.06-.94-2.06-.94L8.5 2.5l-.94 2.06-2.06.94zm10 10l.94 2.06.94-2.06 2.06-.94-2.06-.94-.94-2.06-.94 2.06-2.06.94z\"/><path d=\"M17.41 7.96l-1.37-1.37c-.4-.4-.92-.59-1.43-.59-.52 0-1.04.2-1.43.59L10.3 9.45l-7.72 7.72c-.78.78-.78 2.05 0 2.83L4 21.41c.39.39.9.59 1.41.59.51 0 1.02-.2 1.41-.59l7.78-7.78 2.81-2.81c.8-.78.8-2.07 0-2.86zM5.41 20L4 18.59l7.72-7.72 1.47 1.35L5.41 20z\"/>\n",
              "  </svg>\n",
              "      </button>\n",
              "      \n",
              "  <style>\n",
              "    .colab-df-container {\n",
              "      display:flex;\n",
              "      flex-wrap:wrap;\n",
              "      gap: 12px;\n",
              "    }\n",
              "\n",
              "    .colab-df-convert {\n",
              "      background-color: #E8F0FE;\n",
              "      border: none;\n",
              "      border-radius: 50%;\n",
              "      cursor: pointer;\n",
              "      display: none;\n",
              "      fill: #1967D2;\n",
              "      height: 32px;\n",
              "      padding: 0 0 0 0;\n",
              "      width: 32px;\n",
              "    }\n",
              "\n",
              "    .colab-df-convert:hover {\n",
              "      background-color: #E2EBFA;\n",
              "      box-shadow: 0px 1px 2px rgba(60, 64, 67, 0.3), 0px 1px 3px 1px rgba(60, 64, 67, 0.15);\n",
              "      fill: #174EA6;\n",
              "    }\n",
              "\n",
              "    [theme=dark] .colab-df-convert {\n",
              "      background-color: #3B4455;\n",
              "      fill: #D2E3FC;\n",
              "    }\n",
              "\n",
              "    [theme=dark] .colab-df-convert:hover {\n",
              "      background-color: #434B5C;\n",
              "      box-shadow: 0px 1px 3px 1px rgba(0, 0, 0, 0.15);\n",
              "      filter: drop-shadow(0px 1px 2px rgba(0, 0, 0, 0.3));\n",
              "      fill: #FFFFFF;\n",
              "    }\n",
              "  </style>\n",
              "\n",
              "      <script>\n",
              "        const buttonEl =\n",
              "          document.querySelector('#df-50ca0e07-7309-4f88-b4ac-c1ea0afeabe8 button.colab-df-convert');\n",
              "        buttonEl.style.display =\n",
              "          google.colab.kernel.accessAllowed ? 'block' : 'none';\n",
              "\n",
              "        async function convertToInteractive(key) {\n",
              "          const element = document.querySelector('#df-50ca0e07-7309-4f88-b4ac-c1ea0afeabe8');\n",
              "          const dataTable =\n",
              "            await google.colab.kernel.invokeFunction('convertToInteractive',\n",
              "                                                     [key], {});\n",
              "          if (!dataTable) return;\n",
              "\n",
              "          const docLinkHtml = 'Like what you see? Visit the ' +\n",
              "            '<a target=\"_blank\" href=https://colab.research.google.com/notebooks/data_table.ipynb>data table notebook</a>'\n",
              "            + ' to learn more about interactive tables.';\n",
              "          element.innerHTML = '';\n",
              "          dataTable['output_type'] = 'display_data';\n",
              "          await google.colab.output.renderOutput(dataTable, element);\n",
              "          const docLink = document.createElement('div');\n",
              "          docLink.innerHTML = docLinkHtml;\n",
              "          element.appendChild(docLink);\n",
              "        }\n",
              "      </script>\n",
              "    </div>\n",
              "  </div>\n",
              "  "
            ]
          },
          "metadata": {},
          "execution_count": 246
        }
      ]
    },
    {
      "cell_type": "code",
      "source": [
        "models_comparison = [                        \n",
        "                        ('Naive Bayes Multinomial', accuracy_nb_test, recall_nb_test, precision_nb_test, f1_nb_test)                      \n",
        "                    ]"
      ],
      "metadata": {
        "id": "MgKHOenAhWVg"
      },
      "execution_count": 247,
      "outputs": []
    },
    {
      "cell_type": "code",
      "source": [
        "comparison = pd.DataFrame(data = models_comparison, columns=['Model', 'Accuracy', 'Recall', 'Precision', 'F1 Weighted'])\n",
        "comparison"
      ],
      "metadata": {
        "colab": {
          "base_uri": "https://localhost:8080/",
          "height": 81
        },
        "id": "Zv362rcPhcZd",
        "outputId": "7b1eb4db-2316-423c-ad9a-6dbbf0652180"
      },
      "execution_count": 248,
      "outputs": [
        {
          "output_type": "execute_result",
          "data": {
            "text/plain": [
              "                     Model  Accuracy  Recall  Precision  F1 Weighted\n",
              "0  Naive Bayes Multinomial     0.675   0.675   0.676008      0.66708"
            ],
            "text/html": [
              "\n",
              "  <div id=\"df-0fe4bd36-30b4-4423-b676-bf84cb004f6b\">\n",
              "    <div class=\"colab-df-container\">\n",
              "      <div>\n",
              "<style scoped>\n",
              "    .dataframe tbody tr th:only-of-type {\n",
              "        vertical-align: middle;\n",
              "    }\n",
              "\n",
              "    .dataframe tbody tr th {\n",
              "        vertical-align: top;\n",
              "    }\n",
              "\n",
              "    .dataframe thead th {\n",
              "        text-align: right;\n",
              "    }\n",
              "</style>\n",
              "<table border=\"1\" class=\"dataframe\">\n",
              "  <thead>\n",
              "    <tr style=\"text-align: right;\">\n",
              "      <th></th>\n",
              "      <th>Model</th>\n",
              "      <th>Accuracy</th>\n",
              "      <th>Recall</th>\n",
              "      <th>Precision</th>\n",
              "      <th>F1 Weighted</th>\n",
              "    </tr>\n",
              "  </thead>\n",
              "  <tbody>\n",
              "    <tr>\n",
              "      <th>0</th>\n",
              "      <td>Naive Bayes Multinomial</td>\n",
              "      <td>0.675</td>\n",
              "      <td>0.675</td>\n",
              "      <td>0.676008</td>\n",
              "      <td>0.66708</td>\n",
              "    </tr>\n",
              "  </tbody>\n",
              "</table>\n",
              "</div>\n",
              "      <button class=\"colab-df-convert\" onclick=\"convertToInteractive('df-0fe4bd36-30b4-4423-b676-bf84cb004f6b')\"\n",
              "              title=\"Convert this dataframe to an interactive table.\"\n",
              "              style=\"display:none;\">\n",
              "        \n",
              "  <svg xmlns=\"http://www.w3.org/2000/svg\" height=\"24px\"viewBox=\"0 0 24 24\"\n",
              "       width=\"24px\">\n",
              "    <path d=\"M0 0h24v24H0V0z\" fill=\"none\"/>\n",
              "    <path d=\"M18.56 5.44l.94 2.06.94-2.06 2.06-.94-2.06-.94-.94-2.06-.94 2.06-2.06.94zm-11 1L8.5 8.5l.94-2.06 2.06-.94-2.06-.94L8.5 2.5l-.94 2.06-2.06.94zm10 10l.94 2.06.94-2.06 2.06-.94-2.06-.94-.94-2.06-.94 2.06-2.06.94z\"/><path d=\"M17.41 7.96l-1.37-1.37c-.4-.4-.92-.59-1.43-.59-.52 0-1.04.2-1.43.59L10.3 9.45l-7.72 7.72c-.78.78-.78 2.05 0 2.83L4 21.41c.39.39.9.59 1.41.59.51 0 1.02-.2 1.41-.59l7.78-7.78 2.81-2.81c.8-.78.8-2.07 0-2.86zM5.41 20L4 18.59l7.72-7.72 1.47 1.35L5.41 20z\"/>\n",
              "  </svg>\n",
              "      </button>\n",
              "      \n",
              "  <style>\n",
              "    .colab-df-container {\n",
              "      display:flex;\n",
              "      flex-wrap:wrap;\n",
              "      gap: 12px;\n",
              "    }\n",
              "\n",
              "    .colab-df-convert {\n",
              "      background-color: #E8F0FE;\n",
              "      border: none;\n",
              "      border-radius: 50%;\n",
              "      cursor: pointer;\n",
              "      display: none;\n",
              "      fill: #1967D2;\n",
              "      height: 32px;\n",
              "      padding: 0 0 0 0;\n",
              "      width: 32px;\n",
              "    }\n",
              "\n",
              "    .colab-df-convert:hover {\n",
              "      background-color: #E2EBFA;\n",
              "      box-shadow: 0px 1px 2px rgba(60, 64, 67, 0.3), 0px 1px 3px 1px rgba(60, 64, 67, 0.15);\n",
              "      fill: #174EA6;\n",
              "    }\n",
              "\n",
              "    [theme=dark] .colab-df-convert {\n",
              "      background-color: #3B4455;\n",
              "      fill: #D2E3FC;\n",
              "    }\n",
              "\n",
              "    [theme=dark] .colab-df-convert:hover {\n",
              "      background-color: #434B5C;\n",
              "      box-shadow: 0px 1px 3px 1px rgba(0, 0, 0, 0.15);\n",
              "      filter: drop-shadow(0px 1px 2px rgba(0, 0, 0, 0.3));\n",
              "      fill: #FFFFFF;\n",
              "    }\n",
              "  </style>\n",
              "\n",
              "      <script>\n",
              "        const buttonEl =\n",
              "          document.querySelector('#df-0fe4bd36-30b4-4423-b676-bf84cb004f6b button.colab-df-convert');\n",
              "        buttonEl.style.display =\n",
              "          google.colab.kernel.accessAllowed ? 'block' : 'none';\n",
              "\n",
              "        async function convertToInteractive(key) {\n",
              "          const element = document.querySelector('#df-0fe4bd36-30b4-4423-b676-bf84cb004f6b');\n",
              "          const dataTable =\n",
              "            await google.colab.kernel.invokeFunction('convertToInteractive',\n",
              "                                                     [key], {});\n",
              "          if (!dataTable) return;\n",
              "\n",
              "          const docLinkHtml = 'Like what you see? Visit the ' +\n",
              "            '<a target=\"_blank\" href=https://colab.research.google.com/notebooks/data_table.ipynb>data table notebook</a>'\n",
              "            + ' to learn more about interactive tables.';\n",
              "          element.innerHTML = '';\n",
              "          dataTable['output_type'] = 'display_data';\n",
              "          await google.colab.output.renderOutput(dataTable, element);\n",
              "          const docLink = document.createElement('div');\n",
              "          docLink.innerHTML = docLinkHtml;\n",
              "          element.appendChild(docLink);\n",
              "        }\n",
              "      </script>\n",
              "    </div>\n",
              "  </div>\n",
              "  "
            ]
          },
          "metadata": {},
          "execution_count": 248
        }
      ]
    },
    {
      "cell_type": "code",
      "source": [
        "import numpy as np\n",
        "\n",
        "f, axes = plt.subplots(2,1, figsize=(14,10))\n",
        "\n",
        "predict.sort_values(by=['Training Accuracy'], ascending=False, inplace=True)\n",
        "\n",
        "sns.barplot(x='Training Accuracy', y='Model', data = predict, palette='Blues_d', ax = axes[0])\n",
        "#axes[0].set(xlabel='Region', ylabel='Charges')\n",
        "axes[0].set_xlabel('Training Accuracy', size=16)\n",
        "axes[0].set_ylabel('Model')\n",
        "axes[0].set_xlim(0,1.0)\n",
        "axes[0].set_xticks(np.arange(0, 1.1, 0.1))\n",
        "\n",
        "predict.sort_values(by=['Test Accuracy'], ascending=False, inplace=True)\n",
        "\n",
        "sns.barplot(x='Test Accuracy', y='Model', data = predict, palette='Greens_d', ax = axes[1])\n",
        "#axes[0].set(xlabel='Region', ylabel='Charges')\n",
        "axes[1].set_xlabel('Test Accuracy', size=16)\n",
        "axes[1].set_ylabel('Model')\n",
        "axes[1].set_xlim(0,1.0)\n",
        "axes[1].set_xticks(np.arange(0, 1.1, 0.1))\n",
        "\n",
        "plt.show()"
      ],
      "metadata": {
        "colab": {
          "base_uri": "https://localhost:8080/",
          "height": 611
        },
        "id": "_v12S5f4hlES",
        "outputId": "5070f38b-2907-4090-8d50-3ff8d4eabb9a"
      },
      "execution_count": 249,
      "outputs": [
        {
          "output_type": "display_data",
          "data": {
            "text/plain": [
              "<Figure size 1008x720 with 2 Axes>"
            ],
            "image/png": "[encoded data removed]"
          },
          "metadata": {
            "needs_background": "light"
          }
        }
      ]
    },
    {
      "cell_type": "code",
      "source": [
        "import joblib\n",
        "# save the model to disk\n",
        "joblib.dump(classifier_nb.best_estimator_, '/content/drive/My Drive/Colab Notebooks/classifier_nb.best_estimator_.sav', compress=1)"
      ],
      "metadata": {
        "colab": {
          "base_uri": "https://localhost:8080/"
        },
        "id": "7wqNDH4ThxRv",
        "outputId": "e1ae6770-ddff-4d5a-c4db-9f6637096667"
      },
      "execution_count": 250,
      "outputs": [
        {
          "output_type": "execute_result",
          "data": {
            "text/plain": [
              "['/content/drive/My Drive/Colab Notebooks/classifier_nb.best_estimator_.sav']"
            ]
          },
          "metadata": {},
          "execution_count": 250
        }
      ]
    }
  ]
}